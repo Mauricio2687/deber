{
 "cells": [
  {
   "cell_type": "code",
   "execution_count": 64,
   "id": "967e8e9b",
   "metadata": {},
   "outputs": [],
   "source": [
    "# Carga de librerías básicas\n",
    "import numpy as np\n",
    "import pandas as pd\n",
    "import matplotlib.pyplot as plt\n",
    "import seaborn as sns\n",
    "\n",
    "import warnings\n",
    "warnings.filterwarnings(\"ignore\")\n",
    "\n",
    "# Carga de librerías para supuestos, notación y pruebas de hipótesis \n",
    "import statsmodels.api as sm\n",
    "\n",
    "import statsmodels.formula.api as sms\n",
    "from statsmodels.formula.api import ols\n",
    "from statsmodels.compat import lzip"
   ]
  },
  {
   "cell_type": "code",
   "execution_count": 65,
   "id": "d690868e",
   "metadata": {},
   "outputs": [
    {
     "data": {
      "text/html": [
       "<div>\n",
       "<style scoped>\n",
       "    .dataframe tbody tr th:only-of-type {\n",
       "        vertical-align: middle;\n",
       "    }\n",
       "\n",
       "    .dataframe tbody tr th {\n",
       "        vertical-align: top;\n",
       "    }\n",
       "\n",
       "    .dataframe thead th {\n",
       "        text-align: right;\n",
       "    }\n",
       "</style>\n",
       "<table border=\"1\" class=\"dataframe\">\n",
       "  <thead>\n",
       "    <tr style=\"text-align: right;\">\n",
       "      <th></th>\n",
       "      <th>Store</th>\n",
       "      <th>Date</th>\n",
       "      <th>Weekly_Sales</th>\n",
       "      <th>Holiday_Flag</th>\n",
       "      <th>Temperature</th>\n",
       "      <th>Fuel_Price</th>\n",
       "      <th>CPI</th>\n",
       "      <th>Unemployment</th>\n",
       "    </tr>\n",
       "  </thead>\n",
       "  <tbody>\n",
       "    <tr>\n",
       "      <th>0</th>\n",
       "      <td>1</td>\n",
       "      <td>05-02-2010</td>\n",
       "      <td>1643690.90</td>\n",
       "      <td>0</td>\n",
       "      <td>42.31</td>\n",
       "      <td>2.572</td>\n",
       "      <td>211.096358</td>\n",
       "      <td>8.106</td>\n",
       "    </tr>\n",
       "    <tr>\n",
       "      <th>1</th>\n",
       "      <td>1</td>\n",
       "      <td>12-02-2010</td>\n",
       "      <td>1641957.44</td>\n",
       "      <td>1</td>\n",
       "      <td>38.51</td>\n",
       "      <td>2.548</td>\n",
       "      <td>211.242170</td>\n",
       "      <td>8.106</td>\n",
       "    </tr>\n",
       "    <tr>\n",
       "      <th>2</th>\n",
       "      <td>1</td>\n",
       "      <td>19-02-2010</td>\n",
       "      <td>1611968.17</td>\n",
       "      <td>0</td>\n",
       "      <td>39.93</td>\n",
       "      <td>2.514</td>\n",
       "      <td>211.289143</td>\n",
       "      <td>8.106</td>\n",
       "    </tr>\n",
       "    <tr>\n",
       "      <th>3</th>\n",
       "      <td>1</td>\n",
       "      <td>26-02-2010</td>\n",
       "      <td>1409727.59</td>\n",
       "      <td>0</td>\n",
       "      <td>46.63</td>\n",
       "      <td>2.561</td>\n",
       "      <td>211.319643</td>\n",
       "      <td>8.106</td>\n",
       "    </tr>\n",
       "    <tr>\n",
       "      <th>4</th>\n",
       "      <td>1</td>\n",
       "      <td>05-03-2010</td>\n",
       "      <td>1554806.68</td>\n",
       "      <td>0</td>\n",
       "      <td>46.50</td>\n",
       "      <td>2.625</td>\n",
       "      <td>211.350143</td>\n",
       "      <td>8.106</td>\n",
       "    </tr>\n",
       "    <tr>\n",
       "      <th>...</th>\n",
       "      <td>...</td>\n",
       "      <td>...</td>\n",
       "      <td>...</td>\n",
       "      <td>...</td>\n",
       "      <td>...</td>\n",
       "      <td>...</td>\n",
       "      <td>...</td>\n",
       "      <td>...</td>\n",
       "    </tr>\n",
       "    <tr>\n",
       "      <th>6430</th>\n",
       "      <td>45</td>\n",
       "      <td>28-09-2012</td>\n",
       "      <td>713173.95</td>\n",
       "      <td>0</td>\n",
       "      <td>64.88</td>\n",
       "      <td>3.997</td>\n",
       "      <td>192.013558</td>\n",
       "      <td>8.684</td>\n",
       "    </tr>\n",
       "    <tr>\n",
       "      <th>6431</th>\n",
       "      <td>45</td>\n",
       "      <td>05-10-2012</td>\n",
       "      <td>733455.07</td>\n",
       "      <td>0</td>\n",
       "      <td>64.89</td>\n",
       "      <td>3.985</td>\n",
       "      <td>192.170412</td>\n",
       "      <td>8.667</td>\n",
       "    </tr>\n",
       "    <tr>\n",
       "      <th>6432</th>\n",
       "      <td>45</td>\n",
       "      <td>12-10-2012</td>\n",
       "      <td>734464.36</td>\n",
       "      <td>0</td>\n",
       "      <td>54.47</td>\n",
       "      <td>4.000</td>\n",
       "      <td>192.327265</td>\n",
       "      <td>8.667</td>\n",
       "    </tr>\n",
       "    <tr>\n",
       "      <th>6433</th>\n",
       "      <td>45</td>\n",
       "      <td>19-10-2012</td>\n",
       "      <td>718125.53</td>\n",
       "      <td>0</td>\n",
       "      <td>56.47</td>\n",
       "      <td>3.969</td>\n",
       "      <td>192.330854</td>\n",
       "      <td>8.667</td>\n",
       "    </tr>\n",
       "    <tr>\n",
       "      <th>6434</th>\n",
       "      <td>45</td>\n",
       "      <td>26-10-2012</td>\n",
       "      <td>760281.43</td>\n",
       "      <td>0</td>\n",
       "      <td>58.85</td>\n",
       "      <td>3.882</td>\n",
       "      <td>192.308899</td>\n",
       "      <td>8.667</td>\n",
       "    </tr>\n",
       "  </tbody>\n",
       "</table>\n",
       "<p>6435 rows × 8 columns</p>\n",
       "</div>"
      ],
      "text/plain": [
       "      Store        Date  Weekly_Sales  Holiday_Flag  Temperature  Fuel_Price  \\\n",
       "0         1  05-02-2010    1643690.90             0        42.31       2.572   \n",
       "1         1  12-02-2010    1641957.44             1        38.51       2.548   \n",
       "2         1  19-02-2010    1611968.17             0        39.93       2.514   \n",
       "3         1  26-02-2010    1409727.59             0        46.63       2.561   \n",
       "4         1  05-03-2010    1554806.68             0        46.50       2.625   \n",
       "...     ...         ...           ...           ...          ...         ...   \n",
       "6430     45  28-09-2012     713173.95             0        64.88       3.997   \n",
       "6431     45  05-10-2012     733455.07             0        64.89       3.985   \n",
       "6432     45  12-10-2012     734464.36             0        54.47       4.000   \n",
       "6433     45  19-10-2012     718125.53             0        56.47       3.969   \n",
       "6434     45  26-10-2012     760281.43             0        58.85       3.882   \n",
       "\n",
       "             CPI  Unemployment  \n",
       "0     211.096358         8.106  \n",
       "1     211.242170         8.106  \n",
       "2     211.289143         8.106  \n",
       "3     211.319643         8.106  \n",
       "4     211.350143         8.106  \n",
       "...          ...           ...  \n",
       "6430  192.013558         8.684  \n",
       "6431  192.170412         8.667  \n",
       "6432  192.327265         8.667  \n",
       "6433  192.330854         8.667  \n",
       "6434  192.308899         8.667  \n",
       "\n",
       "[6435 rows x 8 columns]"
      ]
     },
     "execution_count": 65,
     "metadata": {},
     "output_type": "execute_result"
    }
   ],
   "source": [
    "# Carga de base de datos a trabajar\n",
    "datos=pd.read_csv(\"Walmart.csv\", sep=',')\n",
    "datos"
   ]
  },
  {
   "cell_type": "code",
   "execution_count": 66,
   "id": "4b999c63",
   "metadata": {},
   "outputs": [],
   "source": [
    "datos.rename({'Store':'Tienda','Date':'Fecha','Weekly_Sales':'Ventas',\n",
    "             'Holiday_Flag':'SemFestiva','Temperature':'Temperatura','Fuel_Price':'CosCombustible',\n",
    "             'CPI':'IPC','Unemployment':'Desempleo'}, axis=1, inplace=True)"
   ]
  },
  {
   "cell_type": "code",
   "execution_count": 67,
   "id": "a61a568b",
   "metadata": {},
   "outputs": [
    {
     "data": {
      "text/html": [
       "<div>\n",
       "<style scoped>\n",
       "    .dataframe tbody tr th:only-of-type {\n",
       "        vertical-align: middle;\n",
       "    }\n",
       "\n",
       "    .dataframe tbody tr th {\n",
       "        vertical-align: top;\n",
       "    }\n",
       "\n",
       "    .dataframe thead th {\n",
       "        text-align: right;\n",
       "    }\n",
       "</style>\n",
       "<table border=\"1\" class=\"dataframe\">\n",
       "  <thead>\n",
       "    <tr style=\"text-align: right;\">\n",
       "      <th></th>\n",
       "      <th>Tienda</th>\n",
       "      <th>Ventas</th>\n",
       "      <th>SemFestiva</th>\n",
       "      <th>Temperatura</th>\n",
       "      <th>CosCombustible</th>\n",
       "      <th>IPC</th>\n",
       "      <th>Desempleo</th>\n",
       "    </tr>\n",
       "  </thead>\n",
       "  <tbody>\n",
       "    <tr>\n",
       "      <th>count</th>\n",
       "      <td>6435.000000</td>\n",
       "      <td>6.435000e+03</td>\n",
       "      <td>6435.000000</td>\n",
       "      <td>6435.000000</td>\n",
       "      <td>6435.000000</td>\n",
       "      <td>6435.000000</td>\n",
       "      <td>6435.000000</td>\n",
       "    </tr>\n",
       "    <tr>\n",
       "      <th>mean</th>\n",
       "      <td>23.000000</td>\n",
       "      <td>1.046965e+06</td>\n",
       "      <td>0.069930</td>\n",
       "      <td>60.663782</td>\n",
       "      <td>3.358607</td>\n",
       "      <td>171.578394</td>\n",
       "      <td>7.999151</td>\n",
       "    </tr>\n",
       "    <tr>\n",
       "      <th>std</th>\n",
       "      <td>12.988182</td>\n",
       "      <td>5.643666e+05</td>\n",
       "      <td>0.255049</td>\n",
       "      <td>18.444933</td>\n",
       "      <td>0.459020</td>\n",
       "      <td>39.356712</td>\n",
       "      <td>1.875885</td>\n",
       "    </tr>\n",
       "    <tr>\n",
       "      <th>min</th>\n",
       "      <td>1.000000</td>\n",
       "      <td>2.099862e+05</td>\n",
       "      <td>0.000000</td>\n",
       "      <td>-2.060000</td>\n",
       "      <td>2.472000</td>\n",
       "      <td>126.064000</td>\n",
       "      <td>3.879000</td>\n",
       "    </tr>\n",
       "    <tr>\n",
       "      <th>25%</th>\n",
       "      <td>12.000000</td>\n",
       "      <td>5.533501e+05</td>\n",
       "      <td>0.000000</td>\n",
       "      <td>47.460000</td>\n",
       "      <td>2.933000</td>\n",
       "      <td>131.735000</td>\n",
       "      <td>6.891000</td>\n",
       "    </tr>\n",
       "    <tr>\n",
       "      <th>50%</th>\n",
       "      <td>23.000000</td>\n",
       "      <td>9.607460e+05</td>\n",
       "      <td>0.000000</td>\n",
       "      <td>62.670000</td>\n",
       "      <td>3.445000</td>\n",
       "      <td>182.616521</td>\n",
       "      <td>7.874000</td>\n",
       "    </tr>\n",
       "    <tr>\n",
       "      <th>75%</th>\n",
       "      <td>34.000000</td>\n",
       "      <td>1.420159e+06</td>\n",
       "      <td>0.000000</td>\n",
       "      <td>74.940000</td>\n",
       "      <td>3.735000</td>\n",
       "      <td>212.743293</td>\n",
       "      <td>8.622000</td>\n",
       "    </tr>\n",
       "    <tr>\n",
       "      <th>max</th>\n",
       "      <td>45.000000</td>\n",
       "      <td>3.818686e+06</td>\n",
       "      <td>1.000000</td>\n",
       "      <td>100.140000</td>\n",
       "      <td>4.468000</td>\n",
       "      <td>227.232807</td>\n",
       "      <td>14.313000</td>\n",
       "    </tr>\n",
       "  </tbody>\n",
       "</table>\n",
       "</div>"
      ],
      "text/plain": [
       "            Tienda        Ventas   SemFestiva  Temperatura  CosCombustible  \\\n",
       "count  6435.000000  6.435000e+03  6435.000000  6435.000000     6435.000000   \n",
       "mean     23.000000  1.046965e+06     0.069930    60.663782        3.358607   \n",
       "std      12.988182  5.643666e+05     0.255049    18.444933        0.459020   \n",
       "min       1.000000  2.099862e+05     0.000000    -2.060000        2.472000   \n",
       "25%      12.000000  5.533501e+05     0.000000    47.460000        2.933000   \n",
       "50%      23.000000  9.607460e+05     0.000000    62.670000        3.445000   \n",
       "75%      34.000000  1.420159e+06     0.000000    74.940000        3.735000   \n",
       "max      45.000000  3.818686e+06     1.000000   100.140000        4.468000   \n",
       "\n",
       "               IPC    Desempleo  \n",
       "count  6435.000000  6435.000000  \n",
       "mean    171.578394     7.999151  \n",
       "std      39.356712     1.875885  \n",
       "min     126.064000     3.879000  \n",
       "25%     131.735000     6.891000  \n",
       "50%     182.616521     7.874000  \n",
       "75%     212.743293     8.622000  \n",
       "max     227.232807    14.313000  "
      ]
     },
     "execution_count": 67,
     "metadata": {},
     "output_type": "execute_result"
    }
   ],
   "source": [
    "# Estadistica descriptiva de variables cuantitativas\n",
    "datos.describe()"
   ]
  },
  {
   "cell_type": "code",
   "execution_count": 68,
   "id": "2ea3e624",
   "metadata": {},
   "outputs": [
    {
     "data": {
      "text/plain": [
       "Tienda              int64\n",
       "Fecha              object\n",
       "Ventas            float64\n",
       "SemFestiva          int64\n",
       "Temperatura       float64\n",
       "CosCombustible    float64\n",
       "IPC               float64\n",
       "Desempleo         float64\n",
       "dtype: object"
      ]
     },
     "execution_count": 68,
     "metadata": {},
     "output_type": "execute_result"
    }
   ],
   "source": [
    "datos.dtypes"
   ]
  },
  {
   "cell_type": "code",
   "execution_count": 69,
   "id": "f98467e7",
   "metadata": {},
   "outputs": [
    {
     "data": {
      "text/html": [
       "<div>\n",
       "<style scoped>\n",
       "    .dataframe tbody tr th:only-of-type {\n",
       "        vertical-align: middle;\n",
       "    }\n",
       "\n",
       "    .dataframe tbody tr th {\n",
       "        vertical-align: top;\n",
       "    }\n",
       "\n",
       "    .dataframe thead th {\n",
       "        text-align: right;\n",
       "    }\n",
       "</style>\n",
       "<table border=\"1\" class=\"dataframe\">\n",
       "  <thead>\n",
       "    <tr style=\"text-align: right;\">\n",
       "      <th></th>\n",
       "      <th>Tienda</th>\n",
       "      <th>Fecha</th>\n",
       "      <th>Ventas</th>\n",
       "      <th>SemFestiva</th>\n",
       "      <th>Temperatura</th>\n",
       "      <th>CosCombustible</th>\n",
       "      <th>IPC</th>\n",
       "      <th>Desempleo</th>\n",
       "    </tr>\n",
       "  </thead>\n",
       "  <tbody>\n",
       "    <tr>\n",
       "      <th>0</th>\n",
       "      <td>1</td>\n",
       "      <td>05-02-2010</td>\n",
       "      <td>1643690.90</td>\n",
       "      <td>0</td>\n",
       "      <td>42.31</td>\n",
       "      <td>2.572</td>\n",
       "      <td>211.096358</td>\n",
       "      <td>8.106</td>\n",
       "    </tr>\n",
       "    <tr>\n",
       "      <th>1</th>\n",
       "      <td>1</td>\n",
       "      <td>12-02-2010</td>\n",
       "      <td>1641957.44</td>\n",
       "      <td>1</td>\n",
       "      <td>38.51</td>\n",
       "      <td>2.548</td>\n",
       "      <td>211.242170</td>\n",
       "      <td>8.106</td>\n",
       "    </tr>\n",
       "    <tr>\n",
       "      <th>2</th>\n",
       "      <td>1</td>\n",
       "      <td>19-02-2010</td>\n",
       "      <td>1611968.17</td>\n",
       "      <td>0</td>\n",
       "      <td>39.93</td>\n",
       "      <td>2.514</td>\n",
       "      <td>211.289143</td>\n",
       "      <td>8.106</td>\n",
       "    </tr>\n",
       "    <tr>\n",
       "      <th>3</th>\n",
       "      <td>1</td>\n",
       "      <td>26-02-2010</td>\n",
       "      <td>1409727.59</td>\n",
       "      <td>0</td>\n",
       "      <td>46.63</td>\n",
       "      <td>2.561</td>\n",
       "      <td>211.319643</td>\n",
       "      <td>8.106</td>\n",
       "    </tr>\n",
       "    <tr>\n",
       "      <th>4</th>\n",
       "      <td>1</td>\n",
       "      <td>05-03-2010</td>\n",
       "      <td>1554806.68</td>\n",
       "      <td>0</td>\n",
       "      <td>46.50</td>\n",
       "      <td>2.625</td>\n",
       "      <td>211.350143</td>\n",
       "      <td>8.106</td>\n",
       "    </tr>\n",
       "    <tr>\n",
       "      <th>...</th>\n",
       "      <td>...</td>\n",
       "      <td>...</td>\n",
       "      <td>...</td>\n",
       "      <td>...</td>\n",
       "      <td>...</td>\n",
       "      <td>...</td>\n",
       "      <td>...</td>\n",
       "      <td>...</td>\n",
       "    </tr>\n",
       "    <tr>\n",
       "      <th>6430</th>\n",
       "      <td>45</td>\n",
       "      <td>28-09-2012</td>\n",
       "      <td>713173.95</td>\n",
       "      <td>0</td>\n",
       "      <td>64.88</td>\n",
       "      <td>3.997</td>\n",
       "      <td>192.013558</td>\n",
       "      <td>8.684</td>\n",
       "    </tr>\n",
       "    <tr>\n",
       "      <th>6431</th>\n",
       "      <td>45</td>\n",
       "      <td>05-10-2012</td>\n",
       "      <td>733455.07</td>\n",
       "      <td>0</td>\n",
       "      <td>64.89</td>\n",
       "      <td>3.985</td>\n",
       "      <td>192.170412</td>\n",
       "      <td>8.667</td>\n",
       "    </tr>\n",
       "    <tr>\n",
       "      <th>6432</th>\n",
       "      <td>45</td>\n",
       "      <td>12-10-2012</td>\n",
       "      <td>734464.36</td>\n",
       "      <td>0</td>\n",
       "      <td>54.47</td>\n",
       "      <td>4.000</td>\n",
       "      <td>192.327265</td>\n",
       "      <td>8.667</td>\n",
       "    </tr>\n",
       "    <tr>\n",
       "      <th>6433</th>\n",
       "      <td>45</td>\n",
       "      <td>19-10-2012</td>\n",
       "      <td>718125.53</td>\n",
       "      <td>0</td>\n",
       "      <td>56.47</td>\n",
       "      <td>3.969</td>\n",
       "      <td>192.330854</td>\n",
       "      <td>8.667</td>\n",
       "    </tr>\n",
       "    <tr>\n",
       "      <th>6434</th>\n",
       "      <td>45</td>\n",
       "      <td>26-10-2012</td>\n",
       "      <td>760281.43</td>\n",
       "      <td>0</td>\n",
       "      <td>58.85</td>\n",
       "      <td>3.882</td>\n",
       "      <td>192.308899</td>\n",
       "      <td>8.667</td>\n",
       "    </tr>\n",
       "  </tbody>\n",
       "</table>\n",
       "<p>6435 rows × 8 columns</p>\n",
       "</div>"
      ],
      "text/plain": [
       "      Tienda       Fecha      Ventas  SemFestiva  Temperatura  CosCombustible  \\\n",
       "0          1  05-02-2010  1643690.90           0        42.31           2.572   \n",
       "1          1  12-02-2010  1641957.44           1        38.51           2.548   \n",
       "2          1  19-02-2010  1611968.17           0        39.93           2.514   \n",
       "3          1  26-02-2010  1409727.59           0        46.63           2.561   \n",
       "4          1  05-03-2010  1554806.68           0        46.50           2.625   \n",
       "...      ...         ...         ...         ...          ...             ...   \n",
       "6430      45  28-09-2012   713173.95           0        64.88           3.997   \n",
       "6431      45  05-10-2012   733455.07           0        64.89           3.985   \n",
       "6432      45  12-10-2012   734464.36           0        54.47           4.000   \n",
       "6433      45  19-10-2012   718125.53           0        56.47           3.969   \n",
       "6434      45  26-10-2012   760281.43           0        58.85           3.882   \n",
       "\n",
       "             IPC  Desempleo  \n",
       "0     211.096358      8.106  \n",
       "1     211.242170      8.106  \n",
       "2     211.289143      8.106  \n",
       "3     211.319643      8.106  \n",
       "4     211.350143      8.106  \n",
       "...          ...        ...  \n",
       "6430  192.013558      8.684  \n",
       "6431  192.170412      8.667  \n",
       "6432  192.327265      8.667  \n",
       "6433  192.330854      8.667  \n",
       "6434  192.308899      8.667  \n",
       "\n",
       "[6435 rows x 8 columns]"
      ]
     },
     "execution_count": 69,
     "metadata": {},
     "output_type": "execute_result"
    }
   ],
   "source": [
    "datos"
   ]
  },
  {
   "cell_type": "code",
   "execution_count": 70,
   "id": "2cc1a711",
   "metadata": {},
   "outputs": [
    {
     "data": {
      "image/png": "[encoded data removed]",
      "text/plain": [
       "<Figure size 432x288 with 1 Axes>"
      ]
     },
     "metadata": {
      "needs_background": "light"
     },
     "output_type": "display_data"
    }
   ],
   "source": [
    "# Gráfico de barras para variables cualitativas\n",
    "for i in datos.select_dtypes(['object']).columns.difference(['modelo']):\n",
    "    if datos[i].dtype=='object':\n",
    "        datos[i].value_counts().plot(kind='bar', title=str(i))\n",
    "        plt.show()"
   ]
  },
  {
   "cell_type": "code",
   "execution_count": 71,
   "id": "c99d67ab",
   "metadata": {},
   "outputs": [],
   "source": [
    "#Identificación de variable cuantitativas y cualitativas\n",
    "datos['Tienda'] = datos['Tienda'].astype('object')\n",
    "datos['SemFestiva'] = datos['SemFestiva'].astype('object')"
   ]
  },
  {
   "cell_type": "code",
   "execution_count": 72,
   "id": "e1f55d07",
   "metadata": {},
   "outputs": [],
   "source": [
    "var_cuan = datos.select_dtypes('number').columns\n",
    "var_cual =datos.select_dtypes('object').columns"
   ]
  },
  {
   "cell_type": "code",
   "execution_count": 73,
   "id": "a758d20d",
   "metadata": {},
   "outputs": [
    {
     "data": {
      "text/html": [
       "<div>\n",
       "<style scoped>\n",
       "    .dataframe tbody tr th:only-of-type {\n",
       "        vertical-align: middle;\n",
       "    }\n",
       "\n",
       "    .dataframe tbody tr th {\n",
       "        vertical-align: top;\n",
       "    }\n",
       "\n",
       "    .dataframe thead th {\n",
       "        text-align: right;\n",
       "    }\n",
       "</style>\n",
       "<table border=\"1\" class=\"dataframe\">\n",
       "  <thead>\n",
       "    <tr style=\"text-align: right;\">\n",
       "      <th></th>\n",
       "      <th>Ventas</th>\n",
       "      <th>Temperatura</th>\n",
       "      <th>CosCombustible</th>\n",
       "      <th>IPC</th>\n",
       "      <th>Desempleo</th>\n",
       "    </tr>\n",
       "  </thead>\n",
       "  <tbody>\n",
       "    <tr>\n",
       "      <th>count</th>\n",
       "      <td>6.435000e+03</td>\n",
       "      <td>6435.000000</td>\n",
       "      <td>6435.000000</td>\n",
       "      <td>6435.000000</td>\n",
       "      <td>6435.000000</td>\n",
       "    </tr>\n",
       "    <tr>\n",
       "      <th>mean</th>\n",
       "      <td>1.046965e+06</td>\n",
       "      <td>60.663782</td>\n",
       "      <td>3.358607</td>\n",
       "      <td>171.578394</td>\n",
       "      <td>7.999151</td>\n",
       "    </tr>\n",
       "    <tr>\n",
       "      <th>std</th>\n",
       "      <td>5.643666e+05</td>\n",
       "      <td>18.444933</td>\n",
       "      <td>0.459020</td>\n",
       "      <td>39.356712</td>\n",
       "      <td>1.875885</td>\n",
       "    </tr>\n",
       "    <tr>\n",
       "      <th>min</th>\n",
       "      <td>2.099862e+05</td>\n",
       "      <td>-2.060000</td>\n",
       "      <td>2.472000</td>\n",
       "      <td>126.064000</td>\n",
       "      <td>3.879000</td>\n",
       "    </tr>\n",
       "    <tr>\n",
       "      <th>25%</th>\n",
       "      <td>5.533501e+05</td>\n",
       "      <td>47.460000</td>\n",
       "      <td>2.933000</td>\n",
       "      <td>131.735000</td>\n",
       "      <td>6.891000</td>\n",
       "    </tr>\n",
       "    <tr>\n",
       "      <th>50%</th>\n",
       "      <td>9.607460e+05</td>\n",
       "      <td>62.670000</td>\n",
       "      <td>3.445000</td>\n",
       "      <td>182.616521</td>\n",
       "      <td>7.874000</td>\n",
       "    </tr>\n",
       "    <tr>\n",
       "      <th>75%</th>\n",
       "      <td>1.420159e+06</td>\n",
       "      <td>74.940000</td>\n",
       "      <td>3.735000</td>\n",
       "      <td>212.743293</td>\n",
       "      <td>8.622000</td>\n",
       "    </tr>\n",
       "    <tr>\n",
       "      <th>max</th>\n",
       "      <td>3.818686e+06</td>\n",
       "      <td>100.140000</td>\n",
       "      <td>4.468000</td>\n",
       "      <td>227.232807</td>\n",
       "      <td>14.313000</td>\n",
       "    </tr>\n",
       "  </tbody>\n",
       "</table>\n",
       "</div>"
      ],
      "text/plain": [
       "             Ventas  Temperatura  CosCombustible          IPC    Desempleo\n",
       "count  6.435000e+03  6435.000000     6435.000000  6435.000000  6435.000000\n",
       "mean   1.046965e+06    60.663782        3.358607   171.578394     7.999151\n",
       "std    5.643666e+05    18.444933        0.459020    39.356712     1.875885\n",
       "min    2.099862e+05    -2.060000        2.472000   126.064000     3.879000\n",
       "25%    5.533501e+05    47.460000        2.933000   131.735000     6.891000\n",
       "50%    9.607460e+05    62.670000        3.445000   182.616521     7.874000\n",
       "75%    1.420159e+06    74.940000        3.735000   212.743293     8.622000\n",
       "max    3.818686e+06   100.140000        4.468000   227.232807    14.313000"
      ]
     },
     "execution_count": 73,
     "metadata": {},
     "output_type": "execute_result"
    }
   ],
   "source": [
    "datos.describe()"
   ]
  },
  {
   "cell_type": "code",
   "execution_count": 74,
   "id": "8c3ba843",
   "metadata": {},
   "outputs": [
    {
     "data": {
      "image/png": "[encoded data removed]",
      "text/plain": [
       "<Figure size 432x288 with 1 Axes>"
      ]
     },
     "metadata": {
      "needs_background": "light"
     },
     "output_type": "display_data"
    },
    {
     "data": {
      "image/png": "[encoded data removed]",
      "text/plain": [
       "<Figure size 432x288 with 1 Axes>"
      ]
     },
     "metadata": {
      "needs_background": "light"
     },
     "output_type": "display_data"
    }
   ],
   "source": [
    "datos=datos.drop(columns=['Fecha'])\n",
    "# Gráfico de barras para variables cualitativas\n",
    "for i in datos.select_dtypes(['object']).columns.difference(['modelo']):\n",
    "    if datos[i].dtype=='object':\n",
    "        datos[i].value_counts().plot(kind='bar', title=str(i))\n",
    "        plt.show()"
   ]
  },
  {
   "cell_type": "code",
   "execution_count": 75,
   "id": "e8382050",
   "metadata": {},
   "outputs": [
    {
     "data": {
      "text/html": [
       "<div>\n",
       "<style scoped>\n",
       "    .dataframe tbody tr th:only-of-type {\n",
       "        vertical-align: middle;\n",
       "    }\n",
       "\n",
       "    .dataframe tbody tr th {\n",
       "        vertical-align: top;\n",
       "    }\n",
       "\n",
       "    .dataframe thead th {\n",
       "        text-align: right;\n",
       "    }\n",
       "</style>\n",
       "<table border=\"1\" class=\"dataframe\">\n",
       "  <thead>\n",
       "    <tr style=\"text-align: right;\">\n",
       "      <th></th>\n",
       "      <th>Tienda</th>\n",
       "      <th>SemFestiva</th>\n",
       "    </tr>\n",
       "  </thead>\n",
       "  <tbody>\n",
       "    <tr>\n",
       "      <th>count</th>\n",
       "      <td>6435</td>\n",
       "      <td>6435</td>\n",
       "    </tr>\n",
       "    <tr>\n",
       "      <th>unique</th>\n",
       "      <td>45</td>\n",
       "      <td>2</td>\n",
       "    </tr>\n",
       "    <tr>\n",
       "      <th>top</th>\n",
       "      <td>1</td>\n",
       "      <td>0</td>\n",
       "    </tr>\n",
       "    <tr>\n",
       "      <th>freq</th>\n",
       "      <td>143</td>\n",
       "      <td>5985</td>\n",
       "    </tr>\n",
       "  </tbody>\n",
       "</table>\n",
       "</div>"
      ],
      "text/plain": [
       "        Tienda  SemFestiva\n",
       "count     6435        6435\n",
       "unique      45           2\n",
       "top          1           0\n",
       "freq       143        5985"
      ]
     },
     "execution_count": 75,
     "metadata": {},
     "output_type": "execute_result"
    }
   ],
   "source": [
    "datos.describe(include='object')"
   ]
  },
  {
   "cell_type": "code",
   "execution_count": 76,
   "id": "9aa83d0f",
   "metadata": {},
   "outputs": [
    {
     "data": {
      "text/plain": [
       "Tienda            0\n",
       "Ventas            0\n",
       "SemFestiva        0\n",
       "Temperatura       0\n",
       "CosCombustible    0\n",
       "IPC               0\n",
       "Desempleo         0\n",
       "dtype: int64"
      ]
     },
     "execution_count": 76,
     "metadata": {},
     "output_type": "execute_result"
    }
   ],
   "source": [
    "# Datos perdidos\n",
    "datos.isna().sum()"
   ]
  },
  {
   "cell_type": "code",
   "execution_count": 77,
   "id": "75d764d5",
   "metadata": {},
   "outputs": [
    {
     "data": {
      "image/png": "[encoded data removed]",
      "text/plain": [
       "<Figure size 1080x576 with 6 Axes>"
      ]
     },
     "metadata": {
      "needs_background": "light"
     },
     "output_type": "display_data"
    }
   ],
   "source": [
    "# Datos atípicos\n",
    "# Box plots\n",
    "fig, axs = plt.subplots(2,3, figsize = (15,8))\n",
    "plt1 = sns.boxplot(datos['Ventas'], ax = axs[0,0])\n",
    "plt2 = sns.boxplot(datos['Temperatura'], ax = axs[0,1])\n",
    "plt3 = sns.boxplot(datos['CosCombustible'], ax = axs[0,2])\n",
    "plt4 = sns.boxplot(datos['IPC'], ax = axs[1,0])\n",
    "plt5 = sns.boxplot(datos['Desempleo'], ax = axs[1,1])"
   ]
  },
  {
   "cell_type": "code",
   "execution_count": 78,
   "id": "dfd1ca53",
   "metadata": {},
   "outputs": [
    {
     "name": "stdout",
     "output_type": "stream",
     "text": [
      "866808.5549999999\n"
     ]
    },
    {
     "data": {
      "text/plain": [
       "(6401, 7)"
      ]
     },
     "execution_count": 78,
     "metadata": {},
     "output_type": "execute_result"
    }
   ],
   "source": [
    "# Calculamos el Quartil 1 y Quartil 3 que son aquellos que nos permiten estimar los límites de los datos atípicos\n",
    "Q1_A = datos.Ventas.quantile(0.25)\n",
    "Q3_A = datos.Ventas.quantile(0.75)\n",
    "IQR_A = Q3_A - Q1_A  #rango intercuartil\n",
    "print(IQR_A)\n",
    "\n",
    "# Ahora removemos aquellas observaciones que se encuentran por fuera del rango: 1.5 x IOR\n",
    "datos = datos[~((datos['Ventas'] < (Q1_A - 1.5 * IQR_A)) |(datos['Ventas'] > (Q3_A + 1.5 * IQR_A)))]\n",
    "datos.shape"
   ]
  },
  {
   "cell_type": "code",
   "execution_count": 79,
   "id": "c341d472",
   "metadata": {},
   "outputs": [
    {
     "name": "stdout",
     "output_type": "stream",
     "text": [
      "27.340000000000003\n"
     ]
    },
    {
     "data": {
      "text/plain": [
       "(6398, 7)"
      ]
     },
     "execution_count": 79,
     "metadata": {},
     "output_type": "execute_result"
    }
   ],
   "source": [
    "Q1_A = datos.Temperatura.quantile(0.25)\n",
    "Q3_A = datos.Temperatura.quantile(0.75)\n",
    "IQR_A = Q3_A - Q1_A  #rango intercuartil\n",
    "print(IQR_A)\n",
    "\n",
    "# Ahora removemos aquellas observaciones que se encuentran por fuera del rango: 1.5 x IOR\n",
    "datos = datos[~((datos['Temperatura'] < (Q1_A - 1.5 * IQR_A)) |(datos['Temperatura'] > (Q3_A + 1.5 * IQR_A)))]\n",
    "datos.shape"
   ]
  },
  {
   "cell_type": "code",
   "execution_count": 80,
   "id": "76d6f6f4",
   "metadata": {},
   "outputs": [
    {
     "name": "stdout",
     "output_type": "stream",
     "text": [
      "1.7309999999999999\n"
     ]
    },
    {
     "data": {
      "text/plain": [
       "(5917, 7)"
      ]
     },
     "execution_count": 80,
     "metadata": {},
     "output_type": "execute_result"
    }
   ],
   "source": [
    "Q1_A = datos.Desempleo.quantile(0.25)\n",
    "Q3_A = datos.Desempleo.quantile(0.75)\n",
    "IQR_A = Q3_A - Q1_A  #rango intercuartil\n",
    "print(IQR_A)\n",
    "\n",
    "# Ahora removemos aquellas observaciones que se encuentran por fuera del rango: 1.5 x IOR\n",
    "datos = datos[~((datos['Desempleo'] < (Q1_A - 1.5 * IQR_A)) |(datos['Desempleo'] > (Q3_A + 1.5 * IQR_A)))]\n",
    "datos.shape"
   ]
  },
  {
   "cell_type": "code",
   "execution_count": 81,
   "id": "6428740c",
   "metadata": {},
   "outputs": [
    {
     "data": {
      "image/png": "[encoded data removed]",
      "text/plain": [
       "<Figure size 432x288 with 1 Axes>"
      ]
     },
     "metadata": {
      "needs_background": "light"
     },
     "output_type": "display_data"
    }
   ],
   "source": [
    "# Gráfica de distribución de variable Ventas\n",
    "plot_TV = sns.distplot(datos['Ventas'],color=\"blue\")"
   ]
  },
  {
   "cell_type": "code",
   "execution_count": 82,
   "id": "d8c53de7",
   "metadata": {},
   "outputs": [
    {
     "data": {
      "image/png": "[encoded data removed]",
      "text/plain": [
       "<Figure size 432x288 with 1 Axes>"
      ]
     },
     "metadata": {
      "needs_background": "light"
     },
     "output_type": "display_data"
    }
   ],
   "source": [
    "# Gráfica de distribución de variable Temperatura\n",
    "plot_TV = sns.distplot(datos['Temperatura'],color=\"blue\")"
   ]
  },
  {
   "cell_type": "code",
   "execution_count": 83,
   "id": "6ad616f2",
   "metadata": {},
   "outputs": [
    {
     "data": {
      "image/png": "[encoded data removed]",
      "text/plain": [
       "<Figure size 432x288 with 1 Axes>"
      ]
     },
     "metadata": {
      "needs_background": "light"
     },
     "output_type": "display_data"
    }
   ],
   "source": [
    "# Gráfica de distribución de variable CosCombustible\n",
    "plot_TV = sns.distplot(datos['CosCombustible'],color=\"blue\")"
   ]
  },
  {
   "cell_type": "code",
   "execution_count": 84,
   "id": "4b5126e0",
   "metadata": {},
   "outputs": [
    {
     "data": {
      "image/png": "[encoded data removed]",
      "text/plain": [
       "<Figure size 432x288 with 1 Axes>"
      ]
     },
     "metadata": {
      "needs_background": "light"
     },
     "output_type": "display_data"
    }
   ],
   "source": [
    "# Gráfica de distribución de variable IPC\n",
    "plot_TV = sns.distplot(datos['IPC'],color=\"blue\")"
   ]
  },
  {
   "cell_type": "code",
   "execution_count": 85,
   "id": "d1e6fc32",
   "metadata": {},
   "outputs": [
    {
     "data": {
      "image/png": "[encoded data removed]",
      "text/plain": [
       "<Figure size 432x288 with 1 Axes>"
      ]
     },
     "metadata": {
      "needs_background": "light"
     },
     "output_type": "display_data"
    }
   ],
   "source": [
    "# Gráfica de distribución de variable Desempleo\n",
    "plot_TV = sns.distplot(datos['Desempleo'],color=\"blue\")"
   ]
  },
  {
   "cell_type": "code",
   "execution_count": 86,
   "id": "9d4d7184",
   "metadata": {},
   "outputs": [
    {
     "data": {
      "text/html": [
       "<style type=\"text/css\">\n",
       "#T_d0015_row0_col0, #T_d0015_row1_col1, #T_d0015_row2_col2, #T_d0015_row3_col3, #T_d0015_row4_col4 {\n",
       "  background-color: #b40426;\n",
       "  color: #f1f1f1;\n",
       "}\n",
       "#T_d0015_row0_col1, #T_d0015_row3_col0, #T_d0015_row3_col2, #T_d0015_row3_col4, #T_d0015_row4_col3 {\n",
       "  background-color: #3b4cc0;\n",
       "  color: #f1f1f1;\n",
       "}\n",
       "#T_d0015_row0_col2 {\n",
       "  background-color: #6788ee;\n",
       "  color: #f1f1f1;\n",
       "}\n",
       "#T_d0015_row0_col3 {\n",
       "  background-color: #5d7ce6;\n",
       "  color: #f1f1f1;\n",
       "}\n",
       "#T_d0015_row0_col4 {\n",
       "  background-color: #5f7fe8;\n",
       "  color: #f1f1f1;\n",
       "}\n",
       "#T_d0015_row1_col0 {\n",
       "  background-color: #455cce;\n",
       "  color: #f1f1f1;\n",
       "}\n",
       "#T_d0015_row1_col2 {\n",
       "  background-color: #8db0fe;\n",
       "  color: #000000;\n",
       "}\n",
       "#T_d0015_row1_col3 {\n",
       "  background-color: #b2ccfb;\n",
       "  color: #000000;\n",
       "}\n",
       "#T_d0015_row1_col4 {\n",
       "  background-color: #7b9ff9;\n",
       "  color: #f1f1f1;\n",
       "}\n",
       "#T_d0015_row2_col0 {\n",
       "  background-color: #5875e1;\n",
       "  color: #f1f1f1;\n",
       "}\n",
       "#T_d0015_row2_col1 {\n",
       "  background-color: #7396f5;\n",
       "  color: #f1f1f1;\n",
       "}\n",
       "#T_d0015_row2_col3 {\n",
       "  background-color: #4c66d6;\n",
       "  color: #f1f1f1;\n",
       "}\n",
       "#T_d0015_row2_col4 {\n",
       "  background-color: #5673e0;\n",
       "  color: #f1f1f1;\n",
       "}\n",
       "#T_d0015_row3_col1 {\n",
       "  background-color: #8caffe;\n",
       "  color: #000000;\n",
       "}\n",
       "#T_d0015_row4_col0 {\n",
       "  background-color: #3d50c3;\n",
       "  color: #f1f1f1;\n",
       "}\n",
       "#T_d0015_row4_col1 {\n",
       "  background-color: #4e68d8;\n",
       "  color: #f1f1f1;\n",
       "}\n",
       "#T_d0015_row4_col2 {\n",
       "  background-color: #445acc;\n",
       "  color: #f1f1f1;\n",
       "}\n",
       "</style>\n",
       "<table id=\"T_d0015\">\n",
       "  <thead>\n",
       "    <tr>\n",
       "      <th class=\"blank level0\" >&nbsp;</th>\n",
       "      <th id=\"T_d0015_level0_col0\" class=\"col_heading level0 col0\" >Ventas</th>\n",
       "      <th id=\"T_d0015_level0_col1\" class=\"col_heading level0 col1\" >Temperatura</th>\n",
       "      <th id=\"T_d0015_level0_col2\" class=\"col_heading level0 col2\" >CosCombustible</th>\n",
       "      <th id=\"T_d0015_level0_col3\" class=\"col_heading level0 col3\" >IPC</th>\n",
       "      <th id=\"T_d0015_level0_col4\" class=\"col_heading level0 col4\" >Desempleo</th>\n",
       "    </tr>\n",
       "  </thead>\n",
       "  <tbody>\n",
       "    <tr>\n",
       "      <th id=\"T_d0015_level0_row0\" class=\"row_heading level0 row0\" >Ventas</th>\n",
       "      <td id=\"T_d0015_row0_col0\" class=\"data row0 col0\" >1.000000</td>\n",
       "      <td id=\"T_d0015_row0_col1\" class=\"data row0 col1\" >-0.041686</td>\n",
       "      <td id=\"T_d0015_row0_col2\" class=\"data row0 col2\" >0.019664</td>\n",
       "      <td id=\"T_d0015_row0_col3\" class=\"data row0 col3\" >-0.082977</td>\n",
       "      <td id=\"T_d0015_row0_col4\" class=\"data row0 col4\" >-0.073092</td>\n",
       "    </tr>\n",
       "    <tr>\n",
       "      <th id=\"T_d0015_level0_row1\" class=\"row_heading level0 row1\" >Temperatura</th>\n",
       "      <td id=\"T_d0015_row1_col0\" class=\"data row1 col0\" >-0.041686</td>\n",
       "      <td id=\"T_d0015_row1_col1\" class=\"data row1 col1\" >1.000000</td>\n",
       "      <td id=\"T_d0015_row1_col2\" class=\"data row1 col2\" >0.145157</td>\n",
       "      <td id=\"T_d0015_row1_col3\" class=\"data row1 col3\" >0.217847</td>\n",
       "      <td id=\"T_d0015_row1_col4\" class=\"data row1 col4\" >0.024204</td>\n",
       "    </tr>\n",
       "    <tr>\n",
       "      <th id=\"T_d0015_level0_row2\" class=\"row_heading level0 row2\" >CosCombustible</th>\n",
       "      <td id=\"T_d0015_row2_col0\" class=\"data row2 col0\" >0.019664</td>\n",
       "      <td id=\"T_d0015_row2_col1\" class=\"data row2 col1\" >0.145157</td>\n",
       "      <td id=\"T_d0015_row2_col2\" class=\"data row2 col2\" >1.000000</td>\n",
       "      <td id=\"T_d0015_row2_col3\" class=\"data row2 col3\" >-0.144515</td>\n",
       "      <td id=\"T_d0015_row2_col4\" class=\"data row2 col4\" >-0.105214</td>\n",
       "    </tr>\n",
       "    <tr>\n",
       "      <th id=\"T_d0015_level0_row3\" class=\"row_heading level0 row3\" >IPC</th>\n",
       "      <td id=\"T_d0015_row3_col0\" class=\"data row3 col0\" >-0.082977</td>\n",
       "      <td id=\"T_d0015_row3_col1\" class=\"data row3 col1\" >0.217847</td>\n",
       "      <td id=\"T_d0015_row3_col2\" class=\"data row3 col2\" >-0.144515</td>\n",
       "      <td id=\"T_d0015_row3_col3\" class=\"data row3 col3\" >1.000000</td>\n",
       "      <td id=\"T_d0015_row3_col4\" class=\"data row3 col4\" >-0.219020</td>\n",
       "    </tr>\n",
       "    <tr>\n",
       "      <th id=\"T_d0015_level0_row4\" class=\"row_heading level0 row4\" >Desempleo</th>\n",
       "      <td id=\"T_d0015_row4_col0\" class=\"data row4 col0\" >-0.073092</td>\n",
       "      <td id=\"T_d0015_row4_col1\" class=\"data row4 col1\" >0.024204</td>\n",
       "      <td id=\"T_d0015_row4_col2\" class=\"data row4 col2\" >-0.105214</td>\n",
       "      <td id=\"T_d0015_row4_col3\" class=\"data row4 col3\" >-0.219020</td>\n",
       "      <td id=\"T_d0015_row4_col4\" class=\"data row4 col4\" >1.000000</td>\n",
       "    </tr>\n",
       "  </tbody>\n",
       "</table>\n"
      ],
      "text/plain": [
       "<pandas.io.formats.style.Styler at 0x28fe10ac400>"
      ]
     },
     "execution_count": 86,
     "metadata": {},
     "output_type": "execute_result"
    }
   ],
   "source": [
    "datos.corr().style.background_gradient(cmap='coolwarm')"
   ]
  },
  {
   "cell_type": "code",
   "execution_count": 87,
   "id": "e408e183",
   "metadata": {},
   "outputs": [
    {
     "data": {
      "text/html": [
       "<div>\n",
       "<style scoped>\n",
       "    .dataframe tbody tr th:only-of-type {\n",
       "        vertical-align: middle;\n",
       "    }\n",
       "\n",
       "    .dataframe tbody tr th {\n",
       "        vertical-align: top;\n",
       "    }\n",
       "\n",
       "    .dataframe thead th {\n",
       "        text-align: right;\n",
       "    }\n",
       "</style>\n",
       "<table border=\"1\" class=\"dataframe\">\n",
       "  <thead>\n",
       "    <tr style=\"text-align: right;\">\n",
       "      <th></th>\n",
       "      <th>Tienda</th>\n",
       "      <th>Ventas</th>\n",
       "      <th>SemFestiva</th>\n",
       "      <th>Temperatura</th>\n",
       "      <th>CosCombustible</th>\n",
       "      <th>IPC</th>\n",
       "      <th>Desempleo</th>\n",
       "    </tr>\n",
       "  </thead>\n",
       "  <tbody>\n",
       "    <tr>\n",
       "      <th>0</th>\n",
       "      <td>0</td>\n",
       "      <td>1643690.90</td>\n",
       "      <td>0</td>\n",
       "      <td>42.31</td>\n",
       "      <td>2.572</td>\n",
       "      <td>211.096358</td>\n",
       "      <td>8.106</td>\n",
       "    </tr>\n",
       "    <tr>\n",
       "      <th>1</th>\n",
       "      <td>0</td>\n",
       "      <td>1641957.44</td>\n",
       "      <td>1</td>\n",
       "      <td>38.51</td>\n",
       "      <td>2.548</td>\n",
       "      <td>211.242170</td>\n",
       "      <td>8.106</td>\n",
       "    </tr>\n",
       "    <tr>\n",
       "      <th>2</th>\n",
       "      <td>0</td>\n",
       "      <td>1611968.17</td>\n",
       "      <td>0</td>\n",
       "      <td>39.93</td>\n",
       "      <td>2.514</td>\n",
       "      <td>211.289143</td>\n",
       "      <td>8.106</td>\n",
       "    </tr>\n",
       "    <tr>\n",
       "      <th>3</th>\n",
       "      <td>0</td>\n",
       "      <td>1409727.59</td>\n",
       "      <td>0</td>\n",
       "      <td>46.63</td>\n",
       "      <td>2.561</td>\n",
       "      <td>211.319643</td>\n",
       "      <td>8.106</td>\n",
       "    </tr>\n",
       "    <tr>\n",
       "      <th>4</th>\n",
       "      <td>0</td>\n",
       "      <td>1554806.68</td>\n",
       "      <td>0</td>\n",
       "      <td>46.50</td>\n",
       "      <td>2.625</td>\n",
       "      <td>211.350143</td>\n",
       "      <td>8.106</td>\n",
       "    </tr>\n",
       "    <tr>\n",
       "      <th>...</th>\n",
       "      <td>...</td>\n",
       "      <td>...</td>\n",
       "      <td>...</td>\n",
       "      <td>...</td>\n",
       "      <td>...</td>\n",
       "      <td>...</td>\n",
       "      <td>...</td>\n",
       "    </tr>\n",
       "    <tr>\n",
       "      <th>6430</th>\n",
       "      <td>44</td>\n",
       "      <td>713173.95</td>\n",
       "      <td>0</td>\n",
       "      <td>64.88</td>\n",
       "      <td>3.997</td>\n",
       "      <td>192.013558</td>\n",
       "      <td>8.684</td>\n",
       "    </tr>\n",
       "    <tr>\n",
       "      <th>6431</th>\n",
       "      <td>44</td>\n",
       "      <td>733455.07</td>\n",
       "      <td>0</td>\n",
       "      <td>64.89</td>\n",
       "      <td>3.985</td>\n",
       "      <td>192.170412</td>\n",
       "      <td>8.667</td>\n",
       "    </tr>\n",
       "    <tr>\n",
       "      <th>6432</th>\n",
       "      <td>44</td>\n",
       "      <td>734464.36</td>\n",
       "      <td>0</td>\n",
       "      <td>54.47</td>\n",
       "      <td>4.000</td>\n",
       "      <td>192.327265</td>\n",
       "      <td>8.667</td>\n",
       "    </tr>\n",
       "    <tr>\n",
       "      <th>6433</th>\n",
       "      <td>44</td>\n",
       "      <td>718125.53</td>\n",
       "      <td>0</td>\n",
       "      <td>56.47</td>\n",
       "      <td>3.969</td>\n",
       "      <td>192.330854</td>\n",
       "      <td>8.667</td>\n",
       "    </tr>\n",
       "    <tr>\n",
       "      <th>6434</th>\n",
       "      <td>44</td>\n",
       "      <td>760281.43</td>\n",
       "      <td>0</td>\n",
       "      <td>58.85</td>\n",
       "      <td>3.882</td>\n",
       "      <td>192.308899</td>\n",
       "      <td>8.667</td>\n",
       "    </tr>\n",
       "  </tbody>\n",
       "</table>\n",
       "<p>5917 rows × 7 columns</p>\n",
       "</div>"
      ],
      "text/plain": [
       "      Tienda      Ventas  SemFestiva  Temperatura  CosCombustible         IPC  \\\n",
       "0          0  1643690.90           0        42.31           2.572  211.096358   \n",
       "1          0  1641957.44           1        38.51           2.548  211.242170   \n",
       "2          0  1611968.17           0        39.93           2.514  211.289143   \n",
       "3          0  1409727.59           0        46.63           2.561  211.319643   \n",
       "4          0  1554806.68           0        46.50           2.625  211.350143   \n",
       "...      ...         ...         ...          ...             ...         ...   \n",
       "6430      44   713173.95           0        64.88           3.997  192.013558   \n",
       "6431      44   733455.07           0        64.89           3.985  192.170412   \n",
       "6432      44   734464.36           0        54.47           4.000  192.327265   \n",
       "6433      44   718125.53           0        56.47           3.969  192.330854   \n",
       "6434      44   760281.43           0        58.85           3.882  192.308899   \n",
       "\n",
       "      Desempleo  \n",
       "0         8.106  \n",
       "1         8.106  \n",
       "2         8.106  \n",
       "3         8.106  \n",
       "4         8.106  \n",
       "...         ...  \n",
       "6430      8.684  \n",
       "6431      8.667  \n",
       "6432      8.667  \n",
       "6433      8.667  \n",
       "6434      8.667  \n",
       "\n",
       "[5917 rows x 7 columns]"
      ]
     },
     "execution_count": 87,
     "metadata": {},
     "output_type": "execute_result"
    }
   ],
   "source": [
    "# Recodificación de las variables categoricas\n",
    "\n",
    "# Librería\n",
    "from sklearn.preprocessing import LabelEncoder\n",
    "\n",
    "# Conjuntos por tipo de variables\n",
    "var_cuan = datos.select_dtypes('number').columns\n",
    "var_cual =datos.select_dtypes('object').columns\n",
    "\n",
    "# Creamos la instancia del objeto\n",
    "labelencoder = LabelEncoder()\n",
    "\n",
    "datos[var_cual] = datos[var_cual].apply(LabelEncoder().fit_transform)\n",
    "datos"
   ]
  },
  {
   "cell_type": "code",
   "execution_count": 88,
   "id": "c07e1246",
   "metadata": {},
   "outputs": [
    {
     "data": {
      "text/html": [
       "<style type=\"text/css\">\n",
       "#T_f573b_row0_col0, #T_f573b_row1_col1, #T_f573b_row2_col2, #T_f573b_row3_col3, #T_f573b_row4_col4, #T_f573b_row5_col5, #T_f573b_row6_col6 {\n",
       "  background-color: #b40426;\n",
       "  color: #f1f1f1;\n",
       "}\n",
       "#T_f573b_row0_col1, #T_f573b_row1_col0, #T_f573b_row2_col3, #T_f573b_row3_col2, #T_f573b_row5_col4, #T_f573b_row5_col6, #T_f573b_row6_col5 {\n",
       "  background-color: #3b4cc0;\n",
       "  color: #f1f1f1;\n",
       "}\n",
       "#T_f573b_row0_col2 {\n",
       "  background-color: #6687ed;\n",
       "  color: #f1f1f1;\n",
       "}\n",
       "#T_f573b_row0_col3, #T_f573b_row1_col5 {\n",
       "  background-color: #5d7ce6;\n",
       "  color: #f1f1f1;\n",
       "}\n",
       "#T_f573b_row0_col4 {\n",
       "  background-color: #6f92f3;\n",
       "  color: #f1f1f1;\n",
       "}\n",
       "#T_f573b_row0_col5 {\n",
       "  background-color: #3d50c3;\n",
       "  color: #f1f1f1;\n",
       "}\n",
       "#T_f573b_row0_col6 {\n",
       "  background-color: #cbd8ee;\n",
       "  color: #000000;\n",
       "}\n",
       "#T_f573b_row1_col2, #T_f573b_row6_col3 {\n",
       "  background-color: #6c8ff1;\n",
       "  color: #f1f1f1;\n",
       "}\n",
       "#T_f573b_row1_col3 {\n",
       "  background-color: #5977e3;\n",
       "  color: #f1f1f1;\n",
       "}\n",
       "#T_f573b_row1_col4 {\n",
       "  background-color: #6788ee;\n",
       "  color: #f1f1f1;\n",
       "}\n",
       "#T_f573b_row1_col6 {\n",
       "  background-color: #5f7fe8;\n",
       "  color: #f1f1f1;\n",
       "}\n",
       "#T_f573b_row2_col0 {\n",
       "  background-color: #8badfd;\n",
       "  color: #000000;\n",
       "}\n",
       "#T_f573b_row2_col1, #T_f573b_row4_col3 {\n",
       "  background-color: #90b2fe;\n",
       "  color: #000000;\n",
       "}\n",
       "#T_f573b_row2_col4, #T_f573b_row4_col5 {\n",
       "  background-color: #4c66d6;\n",
       "  color: #f1f1f1;\n",
       "}\n",
       "#T_f573b_row2_col5, #T_f573b_row5_col1 {\n",
       "  background-color: #7396f5;\n",
       "  color: #f1f1f1;\n",
       "}\n",
       "#T_f573b_row2_col6 {\n",
       "  background-color: #779af7;\n",
       "  color: #f1f1f1;\n",
       "}\n",
       "#T_f573b_row3_col0 {\n",
       "  background-color: #82a6fb;\n",
       "  color: #f1f1f1;\n",
       "}\n",
       "#T_f573b_row3_col1 {\n",
       "  background-color: #7ea1fa;\n",
       "  color: #f1f1f1;\n",
       "}\n",
       "#T_f573b_row3_col4 {\n",
       "  background-color: #8db0fe;\n",
       "  color: #000000;\n",
       "}\n",
       "#T_f573b_row3_col5 {\n",
       "  background-color: #b2ccfb;\n",
       "  color: #000000;\n",
       "}\n",
       "#T_f573b_row3_col6 {\n",
       "  background-color: #7b9ff9;\n",
       "  color: #f1f1f1;\n",
       "}\n",
       "#T_f573b_row4_col0 {\n",
       "  background-color: #97b8ff;\n",
       "  color: #000000;\n",
       "}\n",
       "#T_f573b_row4_col1 {\n",
       "  background-color: #8fb1fe;\n",
       "  color: #000000;\n",
       "}\n",
       "#T_f573b_row4_col2 {\n",
       "  background-color: #4f69d9;\n",
       "  color: #f1f1f1;\n",
       "}\n",
       "#T_f573b_row4_col6 {\n",
       "  background-color: #5673e0;\n",
       "  color: #f1f1f1;\n",
       "}\n",
       "#T_f573b_row5_col0 {\n",
       "  background-color: #5470de;\n",
       "  color: #f1f1f1;\n",
       "}\n",
       "#T_f573b_row5_col2 {\n",
       "  background-color: #6485ec;\n",
       "  color: #f1f1f1;\n",
       "}\n",
       "#T_f573b_row5_col3 {\n",
       "  background-color: #a6c4fe;\n",
       "  color: #000000;\n",
       "}\n",
       "#T_f573b_row6_col0 {\n",
       "  background-color: #d7dce3;\n",
       "  color: #000000;\n",
       "}\n",
       "#T_f573b_row6_col1 {\n",
       "  background-color: #7699f6;\n",
       "  color: #f1f1f1;\n",
       "}\n",
       "#T_f573b_row6_col2 {\n",
       "  background-color: #688aef;\n",
       "  color: #f1f1f1;\n",
       "}\n",
       "#T_f573b_row6_col4 {\n",
       "  background-color: #445acc;\n",
       "  color: #f1f1f1;\n",
       "}\n",
       "</style>\n",
       "<table id=\"T_f573b\">\n",
       "  <thead>\n",
       "    <tr>\n",
       "      <th class=\"blank level0\" >&nbsp;</th>\n",
       "      <th id=\"T_f573b_level0_col0\" class=\"col_heading level0 col0\" >Tienda</th>\n",
       "      <th id=\"T_f573b_level0_col1\" class=\"col_heading level0 col1\" >Ventas</th>\n",
       "      <th id=\"T_f573b_level0_col2\" class=\"col_heading level0 col2\" >SemFestiva</th>\n",
       "      <th id=\"T_f573b_level0_col3\" class=\"col_heading level0 col3\" >Temperatura</th>\n",
       "      <th id=\"T_f573b_level0_col4\" class=\"col_heading level0 col4\" >CosCombustible</th>\n",
       "      <th id=\"T_f573b_level0_col5\" class=\"col_heading level0 col5\" >IPC</th>\n",
       "      <th id=\"T_f573b_level0_col6\" class=\"col_heading level0 col6\" >Desempleo</th>\n",
       "    </tr>\n",
       "  </thead>\n",
       "  <tbody>\n",
       "    <tr>\n",
       "      <th id=\"T_f573b_level0_row0\" class=\"row_heading level0 row0\" >Tienda</th>\n",
       "      <td id=\"T_f573b_row0_col0\" class=\"data row0 col0\" >1.000000</td>\n",
       "      <td id=\"T_f573b_row0_col1\" class=\"data row0 col1\" >-0.319354</td>\n",
       "      <td id=\"T_f573b_row0_col2\" class=\"data row0 col2\" >0.004289</td>\n",
       "      <td id=\"T_f573b_row0_col3\" class=\"data row0 col3\" >-0.027045</td>\n",
       "      <td id=\"T_f573b_row0_col4\" class=\"data row0 col4\" >0.047519</td>\n",
       "      <td id=\"T_f573b_row0_col5\" class=\"data row0 col5\" >-0.208637</td>\n",
       "      <td id=\"T_f573b_row0_col6\" class=\"data row0 col6\" >0.309645</td>\n",
       "    </tr>\n",
       "    <tr>\n",
       "      <th id=\"T_f573b_level0_row1\" class=\"row_heading level0 row1\" >Ventas</th>\n",
       "      <td id=\"T_f573b_row1_col0\" class=\"data row1 col0\" >-0.319354</td>\n",
       "      <td id=\"T_f573b_row1_col1\" class=\"data row1 col1\" >1.000000</td>\n",
       "      <td id=\"T_f573b_row1_col2\" class=\"data row1 col2\" >0.024390</td>\n",
       "      <td id=\"T_f573b_row1_col3\" class=\"data row1 col3\" >-0.041686</td>\n",
       "      <td id=\"T_f573b_row1_col4\" class=\"data row1 col4\" >0.019664</td>\n",
       "      <td id=\"T_f573b_row1_col5\" class=\"data row1 col5\" >-0.082977</td>\n",
       "      <td id=\"T_f573b_row1_col6\" class=\"data row1 col6\" >-0.073092</td>\n",
       "    </tr>\n",
       "    <tr>\n",
       "      <th id=\"T_f573b_level0_row2\" class=\"row_heading level0 row2\" >SemFestiva</th>\n",
       "      <td id=\"T_f573b_row2_col0\" class=\"data row2 col0\" >0.004289</td>\n",
       "      <td id=\"T_f573b_row2_col1\" class=\"data row2 col1\" >0.024390</td>\n",
       "      <td id=\"T_f573b_row2_col2\" class=\"data row2 col2\" >1.000000</td>\n",
       "      <td id=\"T_f573b_row2_col3\" class=\"data row2 col3\" >-0.157220</td>\n",
       "      <td id=\"T_f573b_row2_col4\" class=\"data row2 col4\" >-0.076529</td>\n",
       "      <td id=\"T_f573b_row2_col5\" class=\"data row2 col5\" >-0.000450</td>\n",
       "      <td id=\"T_f573b_row2_col6\" class=\"data row2 col6\" >0.011031</td>\n",
       "    </tr>\n",
       "    <tr>\n",
       "      <th id=\"T_f573b_level0_row3\" class=\"row_heading level0 row3\" >Temperatura</th>\n",
       "      <td id=\"T_f573b_row3_col0\" class=\"data row3 col0\" >-0.027045</td>\n",
       "      <td id=\"T_f573b_row3_col1\" class=\"data row3 col1\" >-0.041686</td>\n",
       "      <td id=\"T_f573b_row3_col2\" class=\"data row3 col2\" >-0.157220</td>\n",
       "      <td id=\"T_f573b_row3_col3\" class=\"data row3 col3\" >1.000000</td>\n",
       "      <td id=\"T_f573b_row3_col4\" class=\"data row3 col4\" >0.145157</td>\n",
       "      <td id=\"T_f573b_row3_col5\" class=\"data row3 col5\" >0.217847</td>\n",
       "      <td id=\"T_f573b_row3_col6\" class=\"data row3 col6\" >0.024204</td>\n",
       "    </tr>\n",
       "    <tr>\n",
       "      <th id=\"T_f573b_level0_row4\" class=\"row_heading level0 row4\" >CosCombustible</th>\n",
       "      <td id=\"T_f573b_row4_col0\" class=\"data row4 col0\" >0.047519</td>\n",
       "      <td id=\"T_f573b_row4_col1\" class=\"data row4 col1\" >0.019664</td>\n",
       "      <td id=\"T_f573b_row4_col2\" class=\"data row4 col2\" >-0.076529</td>\n",
       "      <td id=\"T_f573b_row4_col3\" class=\"data row4 col3\" >0.145157</td>\n",
       "      <td id=\"T_f573b_row4_col4\" class=\"data row4 col4\" >1.000000</td>\n",
       "      <td id=\"T_f573b_row4_col5\" class=\"data row4 col5\" >-0.144515</td>\n",
       "      <td id=\"T_f573b_row4_col6\" class=\"data row4 col6\" >-0.105214</td>\n",
       "    </tr>\n",
       "    <tr>\n",
       "      <th id=\"T_f573b_level0_row5\" class=\"row_heading level0 row5\" >IPC</th>\n",
       "      <td id=\"T_f573b_row5_col0\" class=\"data row5 col0\" >-0.208637</td>\n",
       "      <td id=\"T_f573b_row5_col1\" class=\"data row5 col1\" >-0.082977</td>\n",
       "      <td id=\"T_f573b_row5_col2\" class=\"data row5 col2\" >-0.000450</td>\n",
       "      <td id=\"T_f573b_row5_col3\" class=\"data row5 col3\" >0.217847</td>\n",
       "      <td id=\"T_f573b_row5_col4\" class=\"data row5 col4\" >-0.144515</td>\n",
       "      <td id=\"T_f573b_row5_col5\" class=\"data row5 col5\" >1.000000</td>\n",
       "      <td id=\"T_f573b_row5_col6\" class=\"data row5 col6\" >-0.219020</td>\n",
       "    </tr>\n",
       "    <tr>\n",
       "      <th id=\"T_f573b_level0_row6\" class=\"row_heading level0 row6\" >Desempleo</th>\n",
       "      <td id=\"T_f573b_row6_col0\" class=\"data row6 col0\" >0.309645</td>\n",
       "      <td id=\"T_f573b_row6_col1\" class=\"data row6 col1\" >-0.073092</td>\n",
       "      <td id=\"T_f573b_row6_col2\" class=\"data row6 col2\" >0.011031</td>\n",
       "      <td id=\"T_f573b_row6_col3\" class=\"data row6 col3\" >0.024204</td>\n",
       "      <td id=\"T_f573b_row6_col4\" class=\"data row6 col4\" >-0.105214</td>\n",
       "      <td id=\"T_f573b_row6_col5\" class=\"data row6 col5\" >-0.219020</td>\n",
       "      <td id=\"T_f573b_row6_col6\" class=\"data row6 col6\" >1.000000</td>\n",
       "    </tr>\n",
       "  </tbody>\n",
       "</table>\n"
      ],
      "text/plain": [
       "<pandas.io.formats.style.Styler at 0x28fe1042130>"
      ]
     },
     "execution_count": 88,
     "metadata": {},
     "output_type": "execute_result"
    }
   ],
   "source": [
    "datos.corr().style.background_gradient(cmap='coolwarm')"
   ]
  },
  {
   "cell_type": "code",
   "execution_count": 92,
   "id": "698462df",
   "metadata": {},
   "outputs": [
    {
     "data": {
      "text/html": [
       "<div>\n",
       "<style scoped>\n",
       "    .dataframe tbody tr th:only-of-type {\n",
       "        vertical-align: middle;\n",
       "    }\n",
       "\n",
       "    .dataframe tbody tr th {\n",
       "        vertical-align: top;\n",
       "    }\n",
       "\n",
       "    .dataframe thead th {\n",
       "        text-align: right;\n",
       "    }\n",
       "</style>\n",
       "<table border=\"1\" class=\"dataframe\">\n",
       "  <thead>\n",
       "    <tr style=\"text-align: right;\">\n",
       "      <th></th>\n",
       "      <th>Tienda</th>\n",
       "      <th>Ventas</th>\n",
       "      <th>SemFestiva</th>\n",
       "      <th>Temperatura</th>\n",
       "      <th>CosCombustible</th>\n",
       "      <th>IPC</th>\n",
       "      <th>Desempleo</th>\n",
       "      <th>log_ventas</th>\n",
       "      <th>ln_Ventas</th>\n",
       "    </tr>\n",
       "  </thead>\n",
       "  <tbody>\n",
       "    <tr>\n",
       "      <th>0</th>\n",
       "      <td>0</td>\n",
       "      <td>1643690.90</td>\n",
       "      <td>0</td>\n",
       "      <td>42.31</td>\n",
       "      <td>2.572</td>\n",
       "      <td>211.096358</td>\n",
       "      <td>8.106</td>\n",
       "      <td>14.312455</td>\n",
       "      <td>14.312455</td>\n",
       "    </tr>\n",
       "    <tr>\n",
       "      <th>1</th>\n",
       "      <td>0</td>\n",
       "      <td>1641957.44</td>\n",
       "      <td>1</td>\n",
       "      <td>38.51</td>\n",
       "      <td>2.548</td>\n",
       "      <td>211.242170</td>\n",
       "      <td>8.106</td>\n",
       "      <td>14.311400</td>\n",
       "      <td>14.311400</td>\n",
       "    </tr>\n",
       "    <tr>\n",
       "      <th>2</th>\n",
       "      <td>0</td>\n",
       "      <td>1611968.17</td>\n",
       "      <td>0</td>\n",
       "      <td>39.93</td>\n",
       "      <td>2.514</td>\n",
       "      <td>211.289143</td>\n",
       "      <td>8.106</td>\n",
       "      <td>14.292966</td>\n",
       "      <td>14.292966</td>\n",
       "    </tr>\n",
       "    <tr>\n",
       "      <th>3</th>\n",
       "      <td>0</td>\n",
       "      <td>1409727.59</td>\n",
       "      <td>0</td>\n",
       "      <td>46.63</td>\n",
       "      <td>2.561</td>\n",
       "      <td>211.319643</td>\n",
       "      <td>8.106</td>\n",
       "      <td>14.158907</td>\n",
       "      <td>14.158907</td>\n",
       "    </tr>\n",
       "    <tr>\n",
       "      <th>4</th>\n",
       "      <td>0</td>\n",
       "      <td>1554806.68</td>\n",
       "      <td>0</td>\n",
       "      <td>46.50</td>\n",
       "      <td>2.625</td>\n",
       "      <td>211.350143</td>\n",
       "      <td>8.106</td>\n",
       "      <td>14.256862</td>\n",
       "      <td>14.256862</td>\n",
       "    </tr>\n",
       "    <tr>\n",
       "      <th>...</th>\n",
       "      <td>...</td>\n",
       "      <td>...</td>\n",
       "      <td>...</td>\n",
       "      <td>...</td>\n",
       "      <td>...</td>\n",
       "      <td>...</td>\n",
       "      <td>...</td>\n",
       "      <td>...</td>\n",
       "      <td>...</td>\n",
       "    </tr>\n",
       "    <tr>\n",
       "      <th>6430</th>\n",
       "      <td>44</td>\n",
       "      <td>713173.95</td>\n",
       "      <td>0</td>\n",
       "      <td>64.88</td>\n",
       "      <td>3.997</td>\n",
       "      <td>192.013558</td>\n",
       "      <td>8.684</td>\n",
       "      <td>13.477481</td>\n",
       "      <td>13.477481</td>\n",
       "    </tr>\n",
       "    <tr>\n",
       "      <th>6431</th>\n",
       "      <td>44</td>\n",
       "      <td>733455.07</td>\n",
       "      <td>0</td>\n",
       "      <td>64.89</td>\n",
       "      <td>3.985</td>\n",
       "      <td>192.170412</td>\n",
       "      <td>8.667</td>\n",
       "      <td>13.505522</td>\n",
       "      <td>13.505522</td>\n",
       "    </tr>\n",
       "    <tr>\n",
       "      <th>6432</th>\n",
       "      <td>44</td>\n",
       "      <td>734464.36</td>\n",
       "      <td>0</td>\n",
       "      <td>54.47</td>\n",
       "      <td>4.000</td>\n",
       "      <td>192.327265</td>\n",
       "      <td>8.667</td>\n",
       "      <td>13.506897</td>\n",
       "      <td>13.506897</td>\n",
       "    </tr>\n",
       "    <tr>\n",
       "      <th>6433</th>\n",
       "      <td>44</td>\n",
       "      <td>718125.53</td>\n",
       "      <td>0</td>\n",
       "      <td>56.47</td>\n",
       "      <td>3.969</td>\n",
       "      <td>192.330854</td>\n",
       "      <td>8.667</td>\n",
       "      <td>13.484400</td>\n",
       "      <td>13.484400</td>\n",
       "    </tr>\n",
       "    <tr>\n",
       "      <th>6434</th>\n",
       "      <td>44</td>\n",
       "      <td>760281.43</td>\n",
       "      <td>0</td>\n",
       "      <td>58.85</td>\n",
       "      <td>3.882</td>\n",
       "      <td>192.308899</td>\n",
       "      <td>8.667</td>\n",
       "      <td>13.541444</td>\n",
       "      <td>13.541444</td>\n",
       "    </tr>\n",
       "  </tbody>\n",
       "</table>\n",
       "<p>5917 rows × 9 columns</p>\n",
       "</div>"
      ],
      "text/plain": [
       "      Tienda      Ventas  SemFestiva  Temperatura  CosCombustible         IPC  \\\n",
       "0          0  1643690.90           0        42.31           2.572  211.096358   \n",
       "1          0  1641957.44           1        38.51           2.548  211.242170   \n",
       "2          0  1611968.17           0        39.93           2.514  211.289143   \n",
       "3          0  1409727.59           0        46.63           2.561  211.319643   \n",
       "4          0  1554806.68           0        46.50           2.625  211.350143   \n",
       "...      ...         ...         ...          ...             ...         ...   \n",
       "6430      44   713173.95           0        64.88           3.997  192.013558   \n",
       "6431      44   733455.07           0        64.89           3.985  192.170412   \n",
       "6432      44   734464.36           0        54.47           4.000  192.327265   \n",
       "6433      44   718125.53           0        56.47           3.969  192.330854   \n",
       "6434      44   760281.43           0        58.85           3.882  192.308899   \n",
       "\n",
       "      Desempleo  log_ventas  ln_Ventas  \n",
       "0         8.106   14.312455  14.312455  \n",
       "1         8.106   14.311400  14.311400  \n",
       "2         8.106   14.292966  14.292966  \n",
       "3         8.106   14.158907  14.158907  \n",
       "4         8.106   14.256862  14.256862  \n",
       "...         ...         ...        ...  \n",
       "6430      8.684   13.477481  13.477481  \n",
       "6431      8.667   13.505522  13.505522  \n",
       "6432      8.667   13.506897  13.506897  \n",
       "6433      8.667   13.484400  13.484400  \n",
       "6434      8.667   13.541444  13.541444  \n",
       "\n",
       "[5917 rows x 9 columns]"
      ]
     },
     "execution_count": 92,
     "metadata": {},
     "output_type": "execute_result"
    }
   ],
   "source": [
    "log_ventas = np.log(datos.Ventas)\n",
    "datos['log_ventas'] = log_ventas\n",
    "datos"
   ]
  },
  {
   "cell_type": "code",
   "execution_count": 96,
   "id": "31ec6ebe",
   "metadata": {},
   "outputs": [],
   "source": [
    "from sklearn.preprocessing import LabelEncoder"
   ]
  },
  {
   "cell_type": "code",
   "execution_count": 98,
   "id": "45e2f6a4",
   "metadata": {},
   "outputs": [],
   "source": [
    "labelencoder = LabelEncoder()"
   ]
  },
  {
   "cell_type": "code",
   "execution_count": 100,
   "id": "1479b2af",
   "metadata": {},
   "outputs": [],
   "source": [
    "datos.Tienda = labelencoder.fit_transform(datos.Tienda)"
   ]
  },
  {
   "cell_type": "code",
   "execution_count": 101,
   "id": "2a053c63",
   "metadata": {},
   "outputs": [
    {
     "name": "stdout",
     "output_type": "stream",
     "text": [
      "                            OLS Regression Results                            \n",
      "==============================================================================\n",
      "Dep. Variable:             log_ventas   R-squared:                       0.100\n",
      "Model:                            OLS   Adj. R-squared:                  0.099\n",
      "Method:                 Least Squares   F-statistic:                     108.9\n",
      "Date:                Tue, 20 Dec 2022   Prob (F-statistic):          1.16e-130\n",
      "Time:                        20:25:46   Log-Likelihood:                -4924.0\n",
      "No. Observations:                5917   AIC:                             9862.\n",
      "Df Residuals:                    5910   BIC:                             9909.\n",
      "Df Model:                           6                                         \n",
      "Covariance Type:            nonrobust                                         \n",
      "==================================================================================\n",
      "                     coef    std err          t      P>|t|      [0.025      0.975]\n",
      "----------------------------------------------------------------------------------\n",
      "Intercept         14.1801      0.092    154.848      0.000      14.001      14.360\n",
      "Tienda            -0.0139      0.001    -23.640      0.000      -0.015      -0.013\n",
      "SemFestiva         0.0284      0.029      0.980      0.327      -0.028       0.085\n",
      "Temperatura       -0.0021      0.000     -5.044      0.000      -0.003      -0.001\n",
      "CosCombustible     0.0406      0.016      2.464      0.014       0.008       0.073\n",
      "IPC               -0.0018      0.000     -9.168      0.000      -0.002      -0.001\n",
      "Desempleo          0.0172      0.006      2.722      0.007       0.005       0.030\n",
      "==============================================================================\n",
      "Omnibus:                      485.482   Durbin-Watson:                   0.060\n",
      "Prob(Omnibus):                  0.000   Jarque-Bera (JB):              298.810\n",
      "Skew:                          -0.421   Prob(JB):                     1.30e-65\n",
      "Kurtosis:                       2.291   Cond. No.                     2.43e+03\n",
      "==============================================================================\n",
      "\n",
      "Notes:\n",
      "[1] Standard Errors assume that the covariance matrix of the errors is correctly specified.\n",
      "[2] The condition number is large, 2.43e+03. This might indicate that there are\n",
      "strong multicollinearity or other numerical problems.\n"
     ]
    }
   ],
   "source": [
    "regresion = ols(\"log_ventas ~ Tienda + SemFestiva + Temperatura + CosCombustible + IPC + Desempleo\", data=datos).fit()\n",
    "print(regresion.summary())"
   ]
  },
  {
   "cell_type": "code",
   "execution_count": 102,
   "id": "0c832504",
   "metadata": {},
   "outputs": [
    {
     "name": "stdout",
     "output_type": "stream",
     "text": [
      "                            OLS Regression Results                            \n",
      "==============================================================================\n",
      "Dep. Variable:             log_ventas   R-squared:                       0.099\n",
      "Model:                            OLS   Adj. R-squared:                  0.099\n",
      "Method:                 Least Squares   F-statistic:                     130.5\n",
      "Date:                Tue, 20 Dec 2022   Prob (F-statistic):          1.55e-131\n",
      "Time:                        20:26:34   Log-Likelihood:                -4924.5\n",
      "No. Observations:                5917   AIC:                             9861.\n",
      "Df Residuals:                    5911   BIC:                             9901.\n",
      "Df Model:                           5                                         \n",
      "Covariance Type:            nonrobust                                         \n",
      "==================================================================================\n",
      "                     coef    std err          t      P>|t|      [0.025      0.975]\n",
      "----------------------------------------------------------------------------------\n",
      "Intercept         14.1866      0.091    155.320      0.000      14.008      14.366\n",
      "Tienda            -0.0139      0.001    -23.636      0.000      -0.015      -0.013\n",
      "Temperatura       -0.0022      0.000     -5.251      0.000      -0.003      -0.001\n",
      "CosCombustible     0.0399      0.016      2.421      0.015       0.008       0.072\n",
      "IPC               -0.0018      0.000     -9.143      0.000      -0.002      -0.001\n",
      "Desempleo          0.0173      0.006      2.737      0.006       0.005       0.030\n",
      "==============================================================================\n",
      "Omnibus:                      485.910   Durbin-Watson:                   0.061\n",
      "Prob(Omnibus):                  0.000   Jarque-Bera (JB):              298.193\n",
      "Skew:                          -0.420   Prob(JB):                     1.77e-65\n",
      "Kurtosis:                       2.291   Cond. No.                     2.43e+03\n",
      "==============================================================================\n",
      "\n",
      "Notes:\n",
      "[1] Standard Errors assume that the covariance matrix of the errors is correctly specified.\n",
      "[2] The condition number is large, 2.43e+03. This might indicate that there are\n",
      "strong multicollinearity or other numerical problems.\n"
     ]
    }
   ],
   "source": [
    "regresion1 = ols(\"log_ventas ~ Tienda + Temperatura + CosCombustible + IPC + Desempleo\", data=datos).fit()\n",
    "print(regresion1.summary())"
   ]
  },
  {
   "cell_type": "code",
   "execution_count": 104,
   "id": "6dfafe49",
   "metadata": {},
   "outputs": [
    {
     "data": {
      "text/plain": [
       "Tienda              int64\n",
       "Ventas            float64\n",
       "SemFestiva          int32\n",
       "Temperatura       float64\n",
       "CosCombustible    float64\n",
       "IPC               float64\n",
       "Desempleo         float64\n",
       "log_ventas        float64\n",
       "ln_Ventas         float64\n",
       "dtype: object"
      ]
     },
     "execution_count": 104,
     "metadata": {},
     "output_type": "execute_result"
    }
   ],
   "source": [
    "datos.dtypes"
   ]
  },
  {
   "cell_type": "code",
   "execution_count": 105,
   "id": "1983fe93",
   "metadata": {},
   "outputs": [
    {
     "name": "stdout",
     "output_type": "stream",
     "text": [
      "          feature        VIF\n",
      "0  CosCombustible  29.277793\n",
      "1       Desempleo  27.237739\n",
      "2             IPC  17.043546\n",
      "3      SemFestiva   1.100140\n",
      "4     Temperatura  13.264382\n",
      "5          Tienda   4.287200\n"
     ]
    }
   ],
   "source": [
    "# Creamos el dataframe del VIF\n",
    "from statsmodels.stats.outliers_influence import variance_inflation_factor\n",
    "datos2=datos[datos.columns.difference(['log_ventas','ln_Ventas','Ventas'])]\n",
    "datos2\n",
    "\n",
    "vif_data = pd.DataFrame()\n",
    "vif_data[\"feature\"] = datos2.columns\n",
    "  \n",
    "# Calculamos el VIF por c/variable\n",
    "vif_data[\"VIF\"] = [variance_inflation_factor(datos2.values, i) for i in range(len(datos2.columns))]\n",
    "\n",
    "print(vif_data)"
   ]
  },
  {
   "cell_type": "code",
   "execution_count": 106,
   "id": "acfb3ed6",
   "metadata": {
    "scrolled": true
   },
   "outputs": [
    {
     "name": "stdout",
     "output_type": "stream",
     "text": [
      "                            OLS Regression Results                            \n",
      "==============================================================================\n",
      "Dep. Variable:             log_ventas   R-squared:                       0.099\n",
      "Model:                            OLS   Adj. R-squared:                  0.098\n",
      "Method:                 Least Squares   F-statistic:                     161.5\n",
      "Date:                Tue, 20 Dec 2022   Prob (F-statistic):          2.12e-131\n",
      "Time:                        20:30:41   Log-Likelihood:                -4927.4\n",
      "No. Observations:                5917   AIC:                             9865.\n",
      "Df Residuals:                    5912   BIC:                             9898.\n",
      "Df Model:                           4                                         \n",
      "Covariance Type:            nonrobust                                         \n",
      "===============================================================================\n",
      "                  coef    std err          t      P>|t|      [0.025      0.975]\n",
      "-------------------------------------------------------------------------------\n",
      "Intercept      14.3435      0.064    222.715      0.000      14.217      14.470\n",
      "Tienda         -0.0138      0.001    -23.522      0.000      -0.015      -0.013\n",
      "Temperatura    -0.0020      0.000     -4.868      0.000      -0.003      -0.001\n",
      "IPC            -0.0019      0.000     -9.841      0.000      -0.002      -0.002\n",
      "Desempleo       0.0147      0.006      2.360      0.018       0.002       0.027\n",
      "==============================================================================\n",
      "Omnibus:                      471.935   Durbin-Watson:                   0.060\n",
      "Prob(Omnibus):                  0.000   Jarque-Bera (JB):              296.829\n",
      "Skew:                          -0.423   Prob(JB):                     3.50e-65\n",
      "Kurtosis:                       2.301   Cond. No.                     1.70e+03\n",
      "==============================================================================\n",
      "\n",
      "Notes:\n",
      "[1] Standard Errors assume that the covariance matrix of the errors is correctly specified.\n",
      "[2] The condition number is large, 1.7e+03. This might indicate that there are\n",
      "strong multicollinearity or other numerical problems.\n"
     ]
    }
   ],
   "source": [
    "regresion1 = ols(\"log_ventas ~ Tienda + Temperatura + IPC + Desempleo\", data=datos).fit()\n",
    "print(regresion1.summary())"
   ]
  },
  {
   "cell_type": "code",
   "execution_count": 108,
   "id": "5c6d7e72",
   "metadata": {},
   "outputs": [
    {
     "name": "stdout",
     "output_type": "stream",
     "text": [
      "       feature        VIF\n",
      "0    Desempleo  19.366822\n",
      "1          IPC  15.070455\n",
      "2   SemFestiva   1.100093\n",
      "3  Temperatura  12.236860\n",
      "4       Tienda   4.248526\n"
     ]
    }
   ],
   "source": [
    "# Creamos el dataframe del VIF\n",
    "vif_data = pd.DataFrame()\n",
    "vif_data[\"feature\"] = datos2.columns.difference(['CosCombustible'])\n",
    "  \n",
    "# Calculamos el VIF por c/variable\n",
    "vif_data[\"VIF\"] = [variance_inflation_factor(datos2[datos2.columns.difference(['CosCombustible'])].values,i) \\\n",
    "                                             for i in range(len(datos2[datos2.columns.difference(['CosCombustible'])].columns))]\n",
    "\n",
    "print(vif_data)"
   ]
  },
  {
   "cell_type": "code",
   "execution_count": 109,
   "id": "1da71bc6",
   "metadata": {
    "scrolled": true
   },
   "outputs": [
    {
     "name": "stdout",
     "output_type": "stream",
     "text": [
      "       feature        VIF\n",
      "0          IPC  10.601849\n",
      "1   SemFestiva   1.089409\n",
      "2  Temperatura  10.588892\n",
      "3       Tienda   3.155075\n"
     ]
    }
   ],
   "source": [
    "# Creamos el dataframe del VIF\n",
    "vif_data = pd.DataFrame()\n",
    "vif_data[\"feature\"] = datos2.columns.difference(['CosCombustible','Desempleo'])\n",
    "  \n",
    "# Calculamos el VIF por c/variable\n",
    "vif_data[\"VIF\"] = [variance_inflation_factor(datos2[datos2.columns.difference(['CosCombustible','Desempleo'])].values,i) \\\n",
    "                                             for i in range(len(datos2[datos2.columns.difference(['CosCombustible','Desempleo'])].columns))]\n",
    "\n",
    "print(vif_data)"
   ]
  },
  {
   "cell_type": "code",
   "execution_count": 110,
   "id": "41a4644e",
   "metadata": {},
   "outputs": [
    {
     "name": "stdout",
     "output_type": "stream",
     "text": [
      "       feature       VIF\n",
      "0   SemFestiva  1.056162\n",
      "1  Temperatura  2.998873\n",
      "2       Tienda  3.026571\n"
     ]
    }
   ],
   "source": [
    "# Creamos el dataframe del VIF\n",
    "vif_data = pd.DataFrame()\n",
    "vif_data[\"feature\"] = datos2.columns.difference(['CosCombustible','Desempleo','IPC'])\n",
    "  \n",
    "# Calculamos el VIF por c/variable\n",
    "vif_data[\"VIF\"] = [variance_inflation_factor(datos2[datos2.columns.difference(['CosCombustible','Desempleo','IPC'])].values,i) \\\n",
    "                                             for i in range(len(datos2[datos2.columns.difference(['CosCombustible','Desempleo','IPC'])].columns))]\n",
    "\n",
    "print(vif_data)"
   ]
  },
  {
   "cell_type": "code",
   "execution_count": 114,
   "id": "468ec1a7",
   "metadata": {},
   "outputs": [
    {
     "name": "stdout",
     "output_type": "stream",
     "text": [
      "                            OLS Regression Results                            \n",
      "==============================================================================\n",
      "Dep. Variable:             log_ventas   R-squared:                       0.081\n",
      "Model:                            OLS   Adj. R-squared:                  0.081\n",
      "Method:                 Least Squares   F-statistic:                     260.9\n",
      "Date:                Tue, 20 Dec 2022   Prob (F-statistic):          2.55e-109\n",
      "Time:                        20:39:24   Log-Likelihood:                -4984.1\n",
      "No. Observations:                5917   AIC:                             9974.\n",
      "Df Residuals:                    5914   BIC:                             9994.\n",
      "Df Model:                           2                                         \n",
      "Covariance Type:            nonrobust                                         \n",
      "===============================================================================\n",
      "                  coef    std err          t      P>|t|      [0.025      0.975]\n",
      "-------------------------------------------------------------------------------\n",
      "Intercept      14.1327      0.028    501.447      0.000      14.077      14.188\n",
      "Tienda         -0.0122      0.001    -21.904      0.000      -0.013      -0.011\n",
      "Temperatura    -0.0028      0.000     -7.075      0.000      -0.004      -0.002\n",
      "==============================================================================\n",
      "Omnibus:                      628.358   Durbin-Watson:                   0.059\n",
      "Prob(Omnibus):                  0.000   Jarque-Bera (JB):              354.722\n",
      "Skew:                          -0.459   Prob(JB):                     9.40e-78\n",
      "Kurtosis:                       2.227   Cond. No.                         257.\n",
      "==============================================================================\n",
      "\n",
      "Notes:\n",
      "[1] Standard Errors assume that the covariance matrix of the errors is correctly specified.\n"
     ]
    }
   ],
   "source": [
    "regresion2 = ols(\"log_ventas ~ Tienda + Temperatura\", data=datos).fit()\n",
    "print(regresion2.summary())"
   ]
  },
  {
   "cell_type": "code",
   "execution_count": 115,
   "id": "088a25e8",
   "metadata": {},
   "outputs": [
    {
     "data": {
      "image/png": "[encoded data removed]",
      "text/plain": [
       "<Figure size 432x288 with 1 Axes>"
      ]
     },
     "execution_count": 115,
     "metadata": {},
     "output_type": "execute_result"
    },
    {
     "data": {
      "image/png": "[encoded data removed]",
      "text/plain": [
       "<Figure size 432x288 with 1 Axes>"
      ]
     },
     "metadata": {
      "needs_background": "light"
     },
     "output_type": "display_data"
    }
   ],
   "source": [
    "# Normalidad en de los residuos\n",
    "sm.qqplot(regresion2.resid, line='q')"
   ]
  },
  {
   "cell_type": "code",
   "execution_count": 116,
   "id": "5f34682c",
   "metadata": {},
   "outputs": [
    {
     "data": {
      "text/plain": [
       "[('Jarque-Bera', 354.7219004306503),\n",
       " ('Chi^2 two-tail prob.', 9.399787082395347e-78),\n",
       " ('Skew', -0.4586352248332532),\n",
       " ('Kurtosis', 2.227079695137357)]"
      ]
     },
     "execution_count": 116,
     "metadata": {},
     "output_type": "execute_result"
    }
   ],
   "source": [
    "# Prueba de Jarque Bera\n",
    "import statsmodels.stats.api as sms\n",
    "from statsmodels.compat import lzip\n",
    "\n",
    "nombres = [\"Jarque-Bera\", \"Chi^2 two-tail prob.\", \"Skew\", \"Kurtosis\"]\n",
    "jarque_bera = sms.jarque_bera(regresion2.resid)\n",
    "lzip(nombres, jarque_bera)"
   ]
  },
  {
   "cell_type": "code",
   "execution_count": 117,
   "id": "b721e300",
   "metadata": {},
   "outputs": [
    {
     "data": {
      "text/plain": [
       "-6.244718373561705e-15"
      ]
     },
     "execution_count": 117,
     "metadata": {},
     "output_type": "execute_result"
    }
   ],
   "source": [
    "regresion2.resid.mean()"
   ]
  },
  {
   "cell_type": "code",
   "execution_count": 118,
   "id": "23917e60",
   "metadata": {},
   "outputs": [
    {
     "data": {
      "text/plain": [
       "Text(0.5, 1.0, 'Gráfica de residuos')"
      ]
     },
     "execution_count": 118,
     "metadata": {},
     "output_type": "execute_result"
    },
    {
     "data": {
      "image/png": "[encoded data removed]",
      "text/plain": [
       "<Figure size 432x288 with 1 Axes>"
      ]
     },
     "metadata": {
      "needs_background": "light"
     },
     "output_type": "display_data"
    }
   ],
   "source": [
    "# Homocedasticidad\n",
    "y_pred=regresion2.predict()\n",
    "sns.residplot(y_pred, regresion2.resid)\n",
    "plt.xlabel(\"y_pred\")\n",
    "plt.ylabel(\"residuos\")\n",
    "plt.title(\"Gráfica de residuos\")"
   ]
  },
  {
   "cell_type": "code",
   "execution_count": 120,
   "id": "bae30dc3",
   "metadata": {},
   "outputs": [
    {
     "data": {
      "text/plain": [
       "[('Lagrange multiplier statistic', 277.12126002449963),\n",
       " ('p-value', 6.666271181738347e-61),\n",
       " ('f-value', 145.29524546054415),\n",
       " ('f p-value', 2.5139656271684492e-62)]"
      ]
     },
     "execution_count": 120,
     "metadata": {},
     "output_type": "execute_result"
    }
   ],
   "source": [
    "nombres = [\"Lagrange multiplier statistic\", \"p-value\", \"f-value\", \"f p-value\"]\n",
    "breuschpagan = sms.het_breuschpagan(regresion2.resid, regresion2.model.exog)\n",
    "lzip(nombres, breuschpagan)"
   ]
  },
  {
   "cell_type": "code",
   "execution_count": 122,
   "id": "7325fdd6",
   "metadata": {},
   "outputs": [
    {
     "data": {
      "text/html": [
       "<div>\n",
       "<style scoped>\n",
       "    .dataframe tbody tr th:only-of-type {\n",
       "        vertical-align: middle;\n",
       "    }\n",
       "\n",
       "    .dataframe tbody tr th {\n",
       "        vertical-align: top;\n",
       "    }\n",
       "\n",
       "    .dataframe thead th {\n",
       "        text-align: right;\n",
       "    }\n",
       "</style>\n",
       "<table border=\"1\" class=\"dataframe\">\n",
       "  <thead>\n",
       "    <tr style=\"text-align: right;\">\n",
       "      <th></th>\n",
       "      <th>CosCombustible</th>\n",
       "      <th>Desempleo</th>\n",
       "      <th>IPC</th>\n",
       "      <th>SemFestiva</th>\n",
       "      <th>Temperatura</th>\n",
       "      <th>Tienda</th>\n",
       "    </tr>\n",
       "  </thead>\n",
       "  <tbody>\n",
       "    <tr>\n",
       "      <th>0</th>\n",
       "      <td>2.572</td>\n",
       "      <td>8.106</td>\n",
       "      <td>211.096358</td>\n",
       "      <td>0</td>\n",
       "      <td>42.31</td>\n",
       "      <td>0</td>\n",
       "    </tr>\n",
       "    <tr>\n",
       "      <th>1</th>\n",
       "      <td>2.548</td>\n",
       "      <td>8.106</td>\n",
       "      <td>211.242170</td>\n",
       "      <td>1</td>\n",
       "      <td>38.51</td>\n",
       "      <td>0</td>\n",
       "    </tr>\n",
       "    <tr>\n",
       "      <th>2</th>\n",
       "      <td>2.514</td>\n",
       "      <td>8.106</td>\n",
       "      <td>211.289143</td>\n",
       "      <td>0</td>\n",
       "      <td>39.93</td>\n",
       "      <td>0</td>\n",
       "    </tr>\n",
       "    <tr>\n",
       "      <th>3</th>\n",
       "      <td>2.561</td>\n",
       "      <td>8.106</td>\n",
       "      <td>211.319643</td>\n",
       "      <td>0</td>\n",
       "      <td>46.63</td>\n",
       "      <td>0</td>\n",
       "    </tr>\n",
       "    <tr>\n",
       "      <th>4</th>\n",
       "      <td>2.625</td>\n",
       "      <td>8.106</td>\n",
       "      <td>211.350143</td>\n",
       "      <td>0</td>\n",
       "      <td>46.50</td>\n",
       "      <td>0</td>\n",
       "    </tr>\n",
       "    <tr>\n",
       "      <th>...</th>\n",
       "      <td>...</td>\n",
       "      <td>...</td>\n",
       "      <td>...</td>\n",
       "      <td>...</td>\n",
       "      <td>...</td>\n",
       "      <td>...</td>\n",
       "    </tr>\n",
       "    <tr>\n",
       "      <th>6430</th>\n",
       "      <td>3.997</td>\n",
       "      <td>8.684</td>\n",
       "      <td>192.013558</td>\n",
       "      <td>0</td>\n",
       "      <td>64.88</td>\n",
       "      <td>44</td>\n",
       "    </tr>\n",
       "    <tr>\n",
       "      <th>6431</th>\n",
       "      <td>3.985</td>\n",
       "      <td>8.667</td>\n",
       "      <td>192.170412</td>\n",
       "      <td>0</td>\n",
       "      <td>64.89</td>\n",
       "      <td>44</td>\n",
       "    </tr>\n",
       "    <tr>\n",
       "      <th>6432</th>\n",
       "      <td>4.000</td>\n",
       "      <td>8.667</td>\n",
       "      <td>192.327265</td>\n",
       "      <td>0</td>\n",
       "      <td>54.47</td>\n",
       "      <td>44</td>\n",
       "    </tr>\n",
       "    <tr>\n",
       "      <th>6433</th>\n",
       "      <td>3.969</td>\n",
       "      <td>8.667</td>\n",
       "      <td>192.330854</td>\n",
       "      <td>0</td>\n",
       "      <td>56.47</td>\n",
       "      <td>44</td>\n",
       "    </tr>\n",
       "    <tr>\n",
       "      <th>6434</th>\n",
       "      <td>3.882</td>\n",
       "      <td>8.667</td>\n",
       "      <td>192.308899</td>\n",
       "      <td>0</td>\n",
       "      <td>58.85</td>\n",
       "      <td>44</td>\n",
       "    </tr>\n",
       "  </tbody>\n",
       "</table>\n",
       "<p>5917 rows × 6 columns</p>\n",
       "</div>"
      ],
      "text/plain": [
       "      CosCombustible  Desempleo         IPC  SemFestiva  Temperatura  Tienda\n",
       "0              2.572      8.106  211.096358           0        42.31       0\n",
       "1              2.548      8.106  211.242170           1        38.51       0\n",
       "2              2.514      8.106  211.289143           0        39.93       0\n",
       "3              2.561      8.106  211.319643           0        46.63       0\n",
       "4              2.625      8.106  211.350143           0        46.50       0\n",
       "...              ...        ...         ...         ...          ...     ...\n",
       "6430           3.997      8.684  192.013558           0        64.88      44\n",
       "6431           3.985      8.667  192.170412           0        64.89      44\n",
       "6432           4.000      8.667  192.327265           0        54.47      44\n",
       "6433           3.969      8.667  192.330854           0        56.47      44\n",
       "6434           3.882      8.667  192.308899           0        58.85      44\n",
       "\n",
       "[5917 rows x 6 columns]"
      ]
     },
     "execution_count": 122,
     "metadata": {},
     "output_type": "execute_result"
    }
   ],
   "source": [
    "datos2"
   ]
  },
  {
   "cell_type": "code",
   "execution_count": 124,
   "id": "32f75ec3",
   "metadata": {},
   "outputs": [
    {
     "data": {
      "text/plain": [
       "array([14.01374825, 14.02443576, 14.020442  , ..., 13.44160077,\n",
       "       13.43597576, 13.42928201])"
      ]
     },
     "execution_count": 124,
     "metadata": {},
     "output_type": "execute_result"
    }
   ],
   "source": [
    "# Predicción\n",
    "datos3=datos2[datos2.columns.difference(['Temperatura', 'Tienda'])]\n",
    "regresion2.predict()"
   ]
  },
  {
   "cell_type": "code",
   "execution_count": 129,
   "id": "9e5b1f1e",
   "metadata": {},
   "outputs": [
    {
     "name": "stdout",
     "output_type": "stream",
     "text": [
      "           Real  Prediccion\n",
      "0     14.312455   14.013748\n",
      "1     14.311400   14.024436\n",
      "2     14.292966   14.020442\n",
      "3     14.158907   14.001598\n",
      "4     14.256862   14.001964\n",
      "...         ...         ...\n",
      "6430  13.477481   13.412323\n",
      "6431  13.505522   13.412294\n",
      "6432  13.506897   13.441601\n",
      "6433  13.484400   13.435976\n",
      "6434  13.541444   13.429282\n",
      "\n",
      "[5917 rows x 2 columns]\n"
     ]
    }
   ],
   "source": [
    "y_pred=regresion2.predict(datos2)\n",
    "y_pred\n",
    "datos.log_ventas\n",
    "df = pd.DataFrame()\n",
    "df['Real'] = datos.log_ventas\n",
    "df['Prediccion'] = y_pred\n",
    "print(df)"
   ]
  },
  {
   "cell_type": "code",
   "execution_count": 130,
   "id": "d6b142af",
   "metadata": {},
   "outputs": [
    {
     "data": {
      "image/png": "[encoded data removed]",
      "text/plain": [
       "<Figure size 432x288 with 1 Axes>"
      ]
     },
     "metadata": {
      "needs_background": "light"
     },
     "output_type": "display_data"
    }
   ],
   "source": [
    "plt.scatter(datos.log_ventas, y_pred, edgecolors=(1, 1, 1), alpha = 0.3)\n",
    "plt.plot([datos.log_ventas.min(),datos.log_ventas.max()], [datos.log_ventas.min(), datos.log_ventas.max()],\n",
    "                'k--', color = 'red', lw=2)\n",
    "plt.show()"
   ]
  },
  {
   "cell_type": "code",
   "execution_count": null,
   "id": "292cce99",
   "metadata": {},
   "outputs": [],
   "source": []
  }
 ],
 "metadata": {
  "kernelspec": {
   "display_name": "Python 3 (ipykernel)",
   "language": "python",
   "name": "python3"
  },
  "language_info": {
   "codemirror_mode": {
    "name": "ipython",
    "version": 3
   },
   "file_extension": ".py",
   "mimetype": "text/x-python",
   "name": "python",
   "nbconvert_exporter": "python",
   "pygments_lexer": "ipython3",
   "version": "3.9.12"
  }
 },
 "nbformat": 4,
 "nbformat_minor": 5
}
